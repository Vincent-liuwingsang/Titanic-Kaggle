{
 "cells": [
  {
   "cell_type": "code",
   "execution_count": 103,
   "metadata": {},
   "outputs": [],
   "source": [
    "# (1)all features                                                  0.830077 0.885088 --> 0.76077\n",
    "# (2)-ticketnum,ticketalpha                                        0.830526 0.878573 --> 0.75598\n",
    "# (3)(2)-ticketnum,ticketalpha,shareTicket,shareCabin,ShareFare    0.831085 0.872703 --> 0.78469\n",
    "# (4)(3) age_intuition                                             0.829855 0.881891 --> 0.79426\n",
    "\n",
    "import re\n",
    "import math\n",
    "import seaborn as sns\n",
    "import xgboost as xgb\n",
    "import pandas as pd\n",
    "import numpy as np\n",
    "import sklearn.model_selection as ms\n",
    "import sklearn.preprocessing as pp\n",
    "import sklearn.feature_selection as fs\n",
    "from sklearn.cross_validation import StratifiedKFold\n",
    "from sklearn import metrics\n",
    "from sklearn.grid_search import GridSearchCV\n",
    "from sklearn.learning_curve import validation_curve\n",
    "from scipy import interp\n",
    "from metrics import cross_validate\n",
    "from sklearn.metrics import (brier_score_loss, precision_score, recall_score,\n",
    "                             f1_score)\n",
    "from sklearn.ensemble import RandomForestClassifier, BaggingClassifier\n",
    "\n",
    "from sklearn.calibration import CalibratedClassifierCV, calibration_curve\n",
    "\n",
    "import matplotlib.pylab as plt\n",
    "from features1 import add_title,fill_age,fill_fare,fill_embarked,fill_cabin,fill_ticket,add_family, simplify_ages_intuition,simplify_ages_bins\n",
    " \n",
    "seed = 1582"
   ]
  },
  {
   "cell_type": "code",
   "execution_count": 2,
   "metadata": {
    "collapsed": true
   },
   "outputs": [],
   "source": [
    "train = pd.read_csv('train.csv')\n",
    "test = pd.read_csv('test.csv')\n",
    "total=pd.concat([train,test])\n",
    "\n",
    "PassengerId=total['PassengerId']"
   ]
  },
  {
   "cell_type": "code",
   "execution_count": 3,
   "metadata": {
    "collapsed": true
   },
   "outputs": [],
   "source": [
    "def add_surname(df):\n",
    "    df['Surname']=df['Name'].apply(lambda x: x.split(\",\")[0])\n",
    "    return df\n",
    "total=add_surname(total)\n",
    "\n"
   ]
  },
  {
   "cell_type": "code",
   "execution_count": 4,
   "metadata": {
    "scrolled": true
   },
   "outputs": [
    {
     "name": "stdout",
     "output_type": "stream",
     "text": [
      "<class 'pandas.core.frame.DataFrame'>\n",
      "Int64Index: 1309 entries, 0 to 417\n",
      "Data columns (total 14 columns):\n",
      "Age            1046 non-null float64\n",
      "Cabin          295 non-null object\n",
      "Embarked       1307 non-null object\n",
      "Fare           1308 non-null float64\n",
      "Name           1309 non-null object\n",
      "Parch          1309 non-null int64\n",
      "PassengerId    1309 non-null int64\n",
      "Pclass         1309 non-null int64\n",
      "Sex            1309 non-null object\n",
      "SibSp          1309 non-null int64\n",
      "Survived       891 non-null float64\n",
      "Ticket         1309 non-null object\n",
      "Surname        1309 non-null object\n",
      "Title          1309 non-null object\n",
      "dtypes: float64(3), int64(4), object(7)\n",
      "memory usage: 153.4+ KB\n",
      "<class 'pandas.core.frame.DataFrame'>\n",
      "Int64Index: 1309 entries, 0 to 417\n",
      "Data columns (total 14 columns):\n",
      "Age            1309 non-null float64\n",
      "Cabin          295 non-null object\n",
      "Embarked       1307 non-null object\n",
      "Fare           1308 non-null float64\n",
      "Name           1309 non-null object\n",
      "Parch          1309 non-null int64\n",
      "PassengerId    1309 non-null int64\n",
      "Pclass         1309 non-null int64\n",
      "Sex            1309 non-null object\n",
      "SibSp          1309 non-null int64\n",
      "Survived       891 non-null float64\n",
      "Ticket         1309 non-null object\n",
      "Surname        1309 non-null object\n",
      "Title          1309 non-null object\n",
      "dtypes: float64(3), int64(4), object(7)\n",
      "memory usage: 153.4+ KB\n"
     ]
    },
    {
     "name": "stderr",
     "output_type": "stream",
     "text": [
      "/home/wing/.virtualenvs/cv/local/lib/python2.7/site-packages/pandas/core/indexing.py:517: SettingWithCopyWarning: \n",
      "A value is trying to be set on a copy of a slice from a DataFrame.\n",
      "Try using .loc[row_indexer,col_indexer] = value instead\n",
      "\n",
      "See the caveats in the documentation: http://pandas.pydata.org/pandas-docs/stable/indexing.html#indexing-view-versus-copy\n",
      "  self.obj[item] = s\n",
      "/home/wing/.virtualenvs/cv/local/lib/python2.7/site-packages/pandas/core/generic.py:3660: SettingWithCopyWarning: \n",
      "A value is trying to be set on a copy of a slice from a DataFrame\n",
      "\n",
      "See the caveats in the documentation: http://pandas.pydata.org/pandas-docs/stable/indexing.html#indexing-view-versus-copy\n",
      "  self._update_inplace(new_data)\n"
     ]
    }
   ],
   "source": [
    "total=add_title(total)\n",
    "total=fill_age(total)\n",
    "total.drop('Name',axis=1,inplace=True)\n",
    "total=add_family(total)\n",
    "total=fill_fare(total)\n",
    "total=fill_embarked(total)\n",
    "total=fill_cabin(total)\n",
    "#total=fill_ticket(total)\n",
    "\n"
   ]
  },
  {
   "cell_type": "code",
   "execution_count": 5,
   "metadata": {
    "collapsed": true
   },
   "outputs": [],
   "source": [
    "total=simplify_ages_intuition(total)"
   ]
  },
  {
   "cell_type": "code",
   "execution_count": 6,
   "metadata": {
    "collapsed": true
   },
   "outputs": [],
   "source": [
    "FFreq=total['Fare'].value_counts()\n",
    "TFreq=total['Ticket'].value_counts()\n",
    "CFreq=total['Cabin'].value_counts()\n",
    "def add_ffreq(df):\n",
    "    total['Ffreq']=total['Fare'].apply(lambda x: FFreq[x] if isinstance(x, float) else 0)\n",
    "    return df\n",
    "def add_tfreq(df):\n",
    "    total['Tfreq']=total['Ticket'].apply(lambda x: TFreq[x])\n",
    "    return df\n",
    "def add_cfreq(df):\n",
    "    total['Cfreq']=total['Cabin'].apply(lambda x: 9999 if isinstance(x, float) else CFreq[x])\n",
    "    return df\n",
    "total=add_ffreq(total)\n",
    "total=add_cfreq(total)\n",
    "total=add_tfreq(total)\n"
   ]
  },
  {
   "cell_type": "code",
   "execution_count": 7,
   "metadata": {
    "collapsed": true
   },
   "outputs": [],
   "source": [
    "\n",
    "def get_gid(r):\n",
    "    if r['SibSp']+r['Parch']>0:\n",
    "        return r['Surname']+\" \"+ str(r['SibSp']+r['Parch'])\n",
    "    if r['Tfreq']>1:\n",
    "        return str(r['Ticket'])\n",
    "    if r['Cfreq']>1 and r['Cfreq']<12:\n",
    "        return str(r['Cabin'])\n",
    "    if r['Ffreq'] and r['Ffreq']<12:\n",
    "        return str(r['Fare'])\n",
    "    return \"Single\"\n",
    "\n",
    "def add_gid(df):\n",
    "    df['GID']=df.apply(get_gid,axis=1)\n",
    "    return df     \n",
    "total=add_gid(total)"
   ]
  },
  {
   "cell_type": "code",
   "execution_count": 8,
   "metadata": {
    "collapsed": true
   },
   "outputs": [],
   "source": [
    "def check_minor(r):\n",
    "    if r['Age']< 14:\n",
    "        if not r['Pclass']==3:\n",
    "            return 1\n",
    "    return 0\n",
    "def add_minor(df):\n",
    "    df['Minor']=df.apply(check_minor,axis=1)\n",
    "    return df\n",
    "\n",
    "total=add_minor(total)"
   ]
  },
  {
   "cell_type": "code",
   "execution_count": 9,
   "metadata": {
    "collapsed": true
   },
   "outputs": [],
   "source": [
    "def logl(a):\n",
    "    a=max(a,0.00001)\n",
    "    a=min(a,1.0-0.00001)\n",
    "    return math.log(a/(1-a))\n"
   ]
  },
  {
   "cell_type": "code",
   "execution_count": 10,
   "metadata": {
    "collapsed": true
   },
   "outputs": [],
   "source": [
    "total1 = total.iloc[:891]\n",
    "survived=total.loc[total1[\"Survived\"]==1,[\"Pclass\",\"Sex\"]]\n",
    "survived_1 = survived.loc[survived[\"Pclass\"]==1,'Sex']\n",
    "survived_2 = survived.loc[survived[\"Pclass\"]==2,'Sex']\n",
    "survived_3 = survived.loc[survived[\"Pclass\"]==3,'Sex']\n",
    "\n",
    "total_1 = total.loc[total1['Pclass']==1,['Sex','Survived']]\n",
    "total_2 = total.loc[total1['Pclass']==2,['Sex','Survived']]\n",
    "total_3 = total.loc[total1['Pclass']==3,['Sex','Survived']]\n",
    "\n",
    "total_1_m = total_1.loc[total_1['Sex']=='male', 'Survived']\n",
    "total_1_f = total_1.loc[total_1['Sex']=='female', 'Survived']\n",
    "total_2_m = total_2.loc[total_2['Sex']=='male', 'Survived']\n",
    "total_2_f = total_2.loc[total_2['Sex']=='female', 'Survived']\n",
    "total_3_m = total_3.loc[total_3['Sex']=='male', 'Survived']\n",
    "total_3_f = total_3.loc[total_3['Sex']=='female', 'Survived']\n",
    "\n",
    "def get_logl(r):\n",
    "    x=0\n",
    "    if r[\"Pclass\"]==1:\n",
    "        x= survived_1.value_counts()[r['Sex']]\n",
    "        if r['Sex']=='male':\n",
    "            x=1.0*x/total_1_m.shape[0]\n",
    "        else:\n",
    "            x=1.0*x/total_1_f.shape[0]   \n",
    "    elif r[\"Pclass\"]==2:\n",
    "        x= survived_2.value_counts()[r['Sex']]\n",
    "        if r['Sex']=='male':\n",
    "            x=1.0*x/total_2_m.shape[0]\n",
    "        else:\n",
    "            x=1.0*x/total_2_f.shape[0]\n",
    "    else:\n",
    "        x= survived_3.value_counts()[r['Sex']]\n",
    "        if r['Sex']=='male':\n",
    "            x=1.0*x/total_3_m.shape[0]\n",
    "        else:\n",
    "            x=1.0*x/total_3_f.shape[0]\n",
    "    return logl(x)\n",
    "    \n",
    "\n",
    "def add_logl(df):\n",
    "    df['SLogL']=0.0\n",
    "    df.loc[:,('SLogL')]=df.apply(get_logl,axis=1)\n",
    "    return df\n",
    "\n",
    "total=add_logl(total)"
   ]
  },
  {
   "cell_type": "code",
   "execution_count": 11,
   "metadata": {
    "collapsed": true
   },
   "outputs": [],
   "source": [
    "def ticket_stat(ticket):\n",
    "    if TFreq[ticket]>1:\n",
    "        a=total.iloc[list(np.where(total['Ticket']==ticket)[0])]['Survived']\n",
    "        if pd.isnull(a).sum() >0 and a.sum()>1:\n",
    "            return 3\n",
    "    return 0\n",
    "\n",
    "def slogl_1(df):\n",
    "    df.loc[:,('SLogL')]=df.loc[:,('SLogL')]+df['Ticket'].apply(ticket_stat)\n",
    "    return df\n",
    "total=slogl_1(total)"
   ]
  },
  {
   "cell_type": "code",
   "execution_count": 12,
   "metadata": {
    "collapsed": true
   },
   "outputs": [],
   "source": [
    "def slogl_2(df):\n",
    "    df.loc[:,('SLogL')]=df.loc[:,('SLogL')]+df['GID'].apply(lambda x: -0.5 if x=='Single' else 0)\n",
    "    return df\n",
    "total=slogl_2(total)"
   ]
  },
  {
   "cell_type": "code",
   "execution_count": 13,
   "metadata": {
    "collapsed": true
   },
   "outputs": [],
   "source": [
    "def large_group(n):\n",
    "    if n==7:\n",
    "        return -3\n",
    "    if n==8:\n",
    "        return -1\n",
    "    if n==11:\n",
    "        return -3\n",
    "    return 0\n",
    "\n",
    "def slogl_3(df):\n",
    "    df.loc[:,('SLogL')]=df.loc[:,('SLogL')]+df['Tfreq'].apply(large_group)\n",
    "    return df\n",
    "total=slogl_3(total)"
   ]
  },
  {
   "cell_type": "code",
   "execution_count": 14,
   "metadata": {
    "collapsed": true
   },
   "outputs": [],
   "source": [
    "total.loc[:,('SLogL')]=total.loc[:,('SLogL')]+total['Minor'].apply(lambda x: 8 if x==1 else 0)"
   ]
  },
  {
   "cell_type": "code",
   "execution_count": 69,
   "metadata": {
    "scrolled": false
   },
   "outputs": [
    {
     "name": "stdout",
     "output_type": "stream",
     "text": [
      "<class 'pandas.core.frame.DataFrame'>\n",
      "Int64Index: 1309 entries, 0 to 417\n",
      "Data columns (total 5 columns):\n",
      "Sex            1309 non-null int64\n",
      "SmallFamily    1309 non-null int64\n",
      "LargeFamily    1309 non-null int64\n",
      "Minor          1309 non-null int64\n",
      "SLogL          1309 non-null float64\n",
      "dtypes: float64(1), int64(4)\n",
      "memory usage: 61.4 KB\n"
     ]
    }
   ],
   "source": [
    "total.info()"
   ]
  },
  {
   "cell_type": "code",
   "execution_count": 18,
   "metadata": {
    "collapsed": true
   },
   "outputs": [],
   "source": [
    "#total = pd.concat([total,pd.get_dummies(total['Title'],prefix='Title')],axis=1)\n",
    "#total = pd.concat([total,pd.get_dummies(total['Embarked'],prefix='Embarked')],axis=1)\n",
    "#total = pd.concat([total,pd.get_dummies(total['Cabin'], prefix='Cabin')], axis=1)\n",
    "#total = pd.concat([total,pd.get_dummies(total['Pclass'], prefix=\"Pclass\")],axis=1)\n",
    "#total = pd.concat([total,pd.get_dummies(total['Age'], prefix=\"Age\")],axis=1)\n",
    "total['Sex'] = total['Sex'].map({'male':1,'female':0})\n",
    "#total = pd.concat([total, pd.get_dummies(total['TicketAlpha'], prefix='TicketAlpha')], axis=1)\n",
    "#total = pd.concat([total, pd.get_dummies(total['TicketNum'], prefix='TicketNum')], axis=1)"
   ]
  },
  {
   "cell_type": "code",
   "execution_count": 16,
   "metadata": {
    "collapsed": true
   },
   "outputs": [],
   "source": [
    "total.drop('Title',axis=1,inplace=True)\n",
    "total.drop('Embarked',axis=1,inplace=True)\n",
    "total.drop('Cabin', axis=1, inplace=True)\n",
    "total.drop('Pclass',axis=1,inplace=True)\n",
    "total.drop('Ticket', inplace=True, axis=1)\n",
    "total.drop('PassengerId', inplace=True, axis=1)\n",
    "total.drop('Survived', axis=1, inplace=True)\n",
    "total.drop('Age',axis=1, inplace=True)\n",
    "\n",
    "#\n",
    "total.drop('Surname', axis=1, inplace=True)\n",
    "total.drop('GID', axis=1, inplace=True)\n",
    "total.drop('Fare', axis=1, inplace=True)\n",
    "total.drop('Parch', axis=1, inplace=True)\n",
    "total.drop('SibSp', axis=1, inplace=True)\n",
    "total.drop('Singleton', axis=1, inplace=True)\n",
    "total.drop('Ffreq', axis=1, inplace=True)\n",
    "total.drop('Tfreq', axis=1, inplace=True)\n",
    "total.drop('Cfreq', axis=1, inplace=True)\n",
    "total.drop('FamilySize', axis=1, inplace=True)"
   ]
  },
  {
   "cell_type": "code",
   "execution_count": 19,
   "metadata": {
    "collapsed": true
   },
   "outputs": [],
   "source": [
    "data_y=train['Survived']\n",
    "data_x=total.iloc[range(len(data_y))]\n",
    "test_x=total.iloc[len(data_y):]\n"
   ]
  },
  {
   "cell_type": "code",
   "execution_count": 134,
   "metadata": {},
   "outputs": [],
   "source": [
    "fixed_params = {\n",
    "    'max_depth':6,\n",
    "    'min_chil_weight':1,\n",
    "    'learning_rate':0.1,\n",
    "    'n_estimators':130,\n",
    "    'gamma':0.1,\n",
    "    'reg_alpha':1e-9,\n",
    "    'random_state':seed,\n",
    "    'subsample':0.9,\n",
    "    'colsample_bytree':0.6,\n",
    "    'objective':'binary:logistic',\n",
    "}\n",
    "model = xgb.XGBClassifier(**fixed_params)\n",
    "bagged = BaggingClassifier(model, n_estimators=5)\n",
    "#calibrated = CalibratedClassifierCV(model, method='isotonic', cv=5)\n",
    "#calibrated1 = CalibratedClassifierCV(model, method='sigmoid', cv=5)"
   ]
  },
  {
   "cell_type": "code",
   "execution_count": 137,
   "metadata": {},
   "outputs": [
    {
     "data": {
      "text/plain": [
       "(0.81490929634046827,\n",
       " 0.86730183960941631,\n",
       " 0.42583349280427718,\n",
       " 0.6911764705882353,\n",
       " 0.8103448275862069)"
      ]
     },
     "execution_count": 137,
     "metadata": {},
     "output_type": "execute_result"
    }
   ],
   "source": [
    "cross_validate(calibrated1, data_x, data_y,seed=seed, rep=10, cv=5)"
   ]
  },
  {
   "cell_type": "code",
   "execution_count": 73,
   "metadata": {},
   "outputs": [
    {
     "data": {
      "image/png": "[encoded data removed]",
      "text/plain": [
       "<matplotlib.figure.Figure at 0x7f596c6e9490>"
      ]
     },
     "metadata": {},
     "output_type": "display_data"
    }
   ],
   "source": [
    "xgb.plot_importance(model)\n",
    "plt.show()\n",
    "\n",
    "(0.81179586968802964,\n",
    " 0.87097292875521404,\n",
    " 0.42377170626310834,\n",
    " 0.6865671641791045,\n",
    " 0.8070175438596491)"
   ]
  },
  {
   "cell_type": "code",
   "execution_count": 133,
   "metadata": {},
   "outputs": [
    {
     "name": "stdout",
     "output_type": "stream",
     "text": [
      "130\n"
     ]
    }
   ],
   "source": [
    "fixed_params = {\n",
    "    'max_depth':6,\n",
    "    'min_chil_weight':1,\n",
    "    'learning_rate':0.1,\n",
    "    'n_estimators':1000,\n",
    "    'gamma':0.1,\n",
    "    'reg_alpha':1e-9,\n",
    "    'random_state':seed,\n",
    "    'subsample':0.9,\n",
    "    'colsample_bytree':0.6,\n",
    "    'objective':'binary:logistic',\n",
    "}\n",
    "\n",
    "alg=xgb.XGBClassifier(**fixed_params)\n",
    "xgb_param = alg.get_xgb_params()\n",
    "xgtrain = xgb.DMatrix(data_x, label=data_y)\n",
    "cvresult = xgb.cv(xgb_param, xgtrain, num_boost_round=alg.get_params()['n_estimators'],\n",
    "                  nfold=5,\n",
    "                  metrics='auc',\n",
    "                  early_stopping_rounds=50,\n",
    "                  )\n",
    "print cvresult.shape[0]"
   ]
  },
  {
   "cell_type": "code",
   "execution_count": 126,
   "metadata": {
    "scrolled": true
   },
   "outputs": [
    {
     "data": {
      "text/plain": [
       "GridSearchCV(cv=10, error_score='raise',\n",
       "       estimator=XGBClassifier(base_score=0.5, booster='gbtree', colsample_bylevel=1,\n",
       "       colsample_bytree=0.6, gamma=0.1, learning_rate=0.1,\n",
       "       max_delta_step=0, max_depth=6, min_chil_weight=1,\n",
       "       min_child_weight=1, missing=None, n_estimators=88, n_jobs=1,\n",
       "       nthread=None, objective='binary:logistic', random_state=1582,\n",
       "       reg_alpha=0, reg_lambda=1, scale_pos_weight=1, seed=None,\n",
       "       silent=True, subsample=0.9),\n",
       "       fit_params={}, iid=True, n_jobs=-1,\n",
       "       param_grid={'reg_alpha': [1e-09, 1e-07, 1e-05, 0.001]},\n",
       "       pre_dispatch='2*n_jobs', refit=True, scoring='roc_auc', verbose=0)"
      ]
     },
     "execution_count": 126,
     "metadata": {},
     "output_type": "execute_result"
    }
   ],
   "source": [
    "# disable gamma, reg_alpha\n",
    "# train depth+child_weight\n",
    "# gamma\n",
    "# subsample+ subcol\n",
    "# reg_alpha\n",
    "cv_params = {\n",
    "#    'max_depth':range(3,10),\n",
    "#    'min_child_weight':range(6),\n",
    "#    'gamma':[i/10.0 for i in range(0,10)],\n",
    "#    'subsample':[0.5,0.6,0.7,0.8,0.9],\n",
    "#    'colsample_bytree':[0.5,0.6,0.7,0.8,0.9],\n",
    "#    'subsample':[0.8,0.85,0.9,0.95],\n",
    "#    'colsample_bytree':[0.85,0.9,0.95],    \n",
    "    'reg_alpha':[1e-9, 1e-7,1e-5,1e-3]\n",
    "#    'reg_alpha':[1e-5, 1e-2, 0.1, 1, 100],\n",
    "#    'reg_alpha':[0, 0.001, 0.005, 0.01, 0.05], \n",
    "#    'reg_alpha':[0.5,1,5,10],\n",
    "#    'learning_rate':[0.05,0.1,0.2],\n",
    "#    'n_estimators':[20,40,60,100,200]\n",
    "}\n",
    "fixed_params = {\n",
    "    'max_depth':6,\n",
    "    'min_chil_weight':1,\n",
    "    'learning_rate':0.1,\n",
    "    'n_estimators':88,\n",
    "    'gamma':0.1,\n",
    "    'reg_alpha':1e-9,\n",
    "    'random_state':seed,\n",
    "    'subsample':0.9,\n",
    "    'colsample_bytree':0.6,\n",
    "    'objective':'binary:logistic',\n",
    "}\n",
    "optimized_gbm = GridSearchCV(xgb.XGBClassifier(**fixed_params),\n",
    "                            cv_params,\n",
    "                            scoring='roc_auc',\n",
    "                            cv=10,\n",
    "                            n_jobs=-1)\n",
    "optimized_gbm.fit(data_x,data_y)\n"
   ]
  },
  {
   "cell_type": "code",
   "execution_count": 127,
   "metadata": {
    "scrolled": true
   },
   "outputs": [
    {
     "data": {
      "text/plain": [
       "([mean: 0.87441, std: 0.03921, params: {'reg_alpha': 1e-09},\n",
       "  mean: 0.87441, std: 0.03921, params: {'reg_alpha': 1e-07},\n",
       "  mean: 0.87441, std: 0.03921, params: {'reg_alpha': 1e-05},\n",
       "  mean: 0.87441, std: 0.03921, params: {'reg_alpha': 0.001}],\n",
       " {'reg_alpha': 1e-09},\n",
       " 0.8744088484400095)"
      ]
     },
     "execution_count": 127,
     "metadata": {},
     "output_type": "execute_result"
    }
   ],
   "source": [
    "optimized_gbm.grid_scores_,optimized_gbm.best_params_,optimized_gbm.best_score_"
   ]
  },
  {
   "cell_type": "code",
   "execution_count": 138,
   "metadata": {
    "collapsed": true
   },
   "outputs": [],
   "source": [
    "fixed_params = {\n",
    "    'max_depth':6,\n",
    "    'min_chil_weight':1,\n",
    "    'learning_rate':0.1,\n",
    "    'n_estimators':130,\n",
    "    'gamma':0.1,\n",
    "    'reg_alpha':1e-9,\n",
    "    'random_state':seed,\n",
    "    'subsample':0.9,\n",
    "    'colsample_bytree':0.6,\n",
    "    'objective':'binary:logistic',\n",
    "}\n",
    "model = xgb.XGBClassifier(**fixed_params)\n",
    "model = CalibratedClassifierCV(model, method='sigmoid', cv=5)\n",
    "model.fit(data_x,data_y)\n",
    "test_predictions = model.predict(test_x)\n",
    "submission = pd.DataFrame({ 'PassengerId': test['PassengerId'],\n",
    "                            'Survived': test_predictions })\n",
    "submission.to_csv(\"submission.csv\", index=False)"
   ]
  },
  {
   "cell_type": "code",
   "execution_count": null,
   "metadata": {
    "collapsed": true
   },
   "outputs": [],
   "source": []
  }
 ],
 "metadata": {
  "kernelspec": {
   "display_name": "cv",
   "language": "python",
   "name": "cv"
  },
  "language_info": {
   "codemirror_mode": {
    "name": "ipython",
    "version": 2
   },
   "file_extension": ".py",
   "mimetype": "text/x-python",
   "name": "python",
   "nbconvert_exporter": "python",
   "pygments_lexer": "ipython2",
   "version": "2.7.12"
  }
 },
 "nbformat": 4,
 "nbformat_minor": 2
}
