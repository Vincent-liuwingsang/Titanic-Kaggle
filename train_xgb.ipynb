{
 "cells": [
  {
   "cell_type": "code",
   "execution_count": 1,
   "metadata": {},
   "outputs": [
    {
     "name": "stderr",
     "output_type": "stream",
     "text": [
      "/home/wing/.virtualenvs/cv/local/lib/python2.7/site-packages/IPython/html.py:14: ShimWarning: The `IPython.html` package has been deprecated since IPython 4.0. You should import from `notebook` instead. `IPython.html.widgets` has moved to `ipywidgets`.\n",
      "  \"`IPython.html.widgets` has moved to `ipywidgets`.\", ShimWarning)\n",
      "/home/wing/.virtualenvs/cv/local/lib/python2.7/site-packages/sklearn/cross_validation.py:44: DeprecationWarning: This module was deprecated in version 0.18 in favor of the model_selection module into which all the refactored classes and functions are moved. Also note that the interface of the new CV iterators are different from that of this module. This module will be removed in 0.20.\n",
      "  \"This module will be removed in 0.20.\", DeprecationWarning)\n",
      "/home/wing/.virtualenvs/cv/local/lib/python2.7/site-packages/sklearn/grid_search.py:43: DeprecationWarning: This module was deprecated in version 0.18 in favor of the model_selection module into which all the refactored classes and functions are moved. This module will be removed in 0.20.\n",
      "  DeprecationWarning)\n",
      "/home/wing/.virtualenvs/cv/local/lib/python2.7/site-packages/sklearn/learning_curve.py:23: DeprecationWarning: This module was deprecated in version 0.18 in favor of the model_selection module into which all the functions are moved. This module will be removed in 0.20\n",
      "  DeprecationWarning)\n"
     ]
    }
   ],
   "source": [
    "# (1)all features                                                  0.830077 0.885088 --> 0.76077\n",
    "# (2)-ticketnum,ticketalpha                                        0.830526 0.878573 --> 0.75598\n",
    "# (3)(2)-ticketnum,ticketalpha,shareTicket,shareCabin,ShareFare    0.831085 0.872703 --> 0.78469\n",
    "# (4)(3) age_intuition                                             0.829855 0.881891 --> 0.79426\n",
    "\n",
    "import re\n",
    "import seaborn as sns\n",
    "import xgboost as xgb\n",
    "import pandas as pd\n",
    "import numpy as np\n",
    "import sklearn.model_selection as ms\n",
    "import sklearn.preprocessing as pp\n",
    "import sklearn.feature_selection as fs\n",
    "from sklearn.cross_validation import StratifiedKFold\n",
    "from sklearn import metrics\n",
    "from sklearn.grid_search import GridSearchCV\n",
    "from sklearn.learning_curve import validation_curve\n",
    "from scipy import interp\n",
    "from metrics import cross_validate\n",
    "from sklearn.metrics import (brier_score_loss, precision_score, recall_score,\n",
    "                             f1_score)\n",
    "from sklearn.calibration import CalibratedClassifierCV, calibration_curve\n",
    "\n",
    "import matplotlib.pylab as plt\n",
    "from features1 import add_title,fill_age,fill_fare,fill_embarked,fill_cabin,fill_ticket,add_family, simplify_ages_intuition,simplify_ages_bins\n",
    "\n",
    "seed = 3423"
   ]
  },
  {
   "cell_type": "code",
   "execution_count": 2,
   "metadata": {
    "collapsed": true
   },
   "outputs": [],
   "source": [
    "train = pd.read_csv('train.csv')\n",
    "test = pd.read_csv('test.csv')\n",
    "total=pd.concat([train,test])\n",
    "PassengerId=total['PassengerId']"
   ]
  },
  {
   "cell_type": "code",
   "execution_count": 3,
   "metadata": {
    "collapsed": true
   },
   "outputs": [],
   "source": [
    "total['Fare']=total['Fare'].apply(np.log)\n",
    "    "
   ]
  },
  {
   "cell_type": "code",
   "execution_count": 4,
   "metadata": {
    "scrolled": true
   },
   "outputs": [
    {
     "name": "stderr",
     "output_type": "stream",
     "text": [
      "/home/wing/.virtualenvs/cv/local/lib/python2.7/site-packages/pandas/core/generic.py:3110: SettingWithCopyWarning: \n",
      "A value is trying to be set on a copy of a slice from a DataFrame.\n",
      "Try using .loc[row_indexer,col_indexer] = value instead\n",
      "\n",
      "See the caveats in the documentation: http://pandas.pydata.org/pandas-docs/stable/indexing.html#indexing-view-versus-copy\n",
      "  self[name] = value\n",
      "/home/wing/.virtualenvs/cv/local/lib/python2.7/site-packages/pandas/core/generic.py:3660: SettingWithCopyWarning: \n",
      "A value is trying to be set on a copy of a slice from a DataFrame\n",
      "\n",
      "See the caveats in the documentation: http://pandas.pydata.org/pandas-docs/stable/indexing.html#indexing-view-versus-copy\n",
      "  self._update_inplace(new_data)\n"
     ]
    }
   ],
   "source": [
    "total=add_title(total)\n",
    "total=fill_age(total)\n",
    "total.drop('Name',axis=1,inplace=True)\n",
    "total=add_family(total)\n",
    "total=fill_fare(total)\n",
    "total=fill_embarked(total)\n",
    "total=fill_cabin(total)\n",
    "#total=fill_ticket(total)\n",
    "\n"
   ]
  },
  {
   "cell_type": "code",
   "execution_count": 5,
   "metadata": {},
   "outputs": [],
   "source": [
    "total=simplify_ages_intuition(total)\n",
    "#total=simplify_ages_bins(total,8)"
   ]
  },
  {
   "cell_type": "code",
   "execution_count": 6,
   "metadata": {},
   "outputs": [
    {
     "data": {
      "image/png": "[encoded data removed]",
      "text/plain": [
       "<matplotlib.figure.Figure at 0x7f7dd84f4f50>"
      ]
     },
     "metadata": {},
     "output_type": "display_data"
    }
   ],
   "source": [
    "sns.countplot(train.Survived)\n",
    "plt.show()"
   ]
  },
  {
   "cell_type": "code",
   "execution_count": 7,
   "metadata": {},
   "outputs": [],
   "source": [
    "total = pd.concat([total,pd.get_dummies(total['Title'],prefix='Title')],axis=1)\n",
    "total = pd.concat([total,pd.get_dummies(total['Embarked'],prefix='Embarked')],axis=1)\n",
    "total = pd.concat([total,pd.get_dummies(total['Cabin'], prefix='Cabin')], axis=1)\n",
    "total = pd.concat([total,pd.get_dummies(total['Pclass'], prefix=\"Pclass\")],axis=1)\n",
    "total = pd.concat([total,pd.get_dummies(total['Age'], prefix=\"Age\")],axis=1)\n",
    "total['Sex'] = total['Sex'].map({'male':1,'female':0})\n",
    "#total = pd.concat([total, pd.get_dummies(total['TicketAlpha'], prefix='TicketAlpha')], axis=1)\n",
    "#total = pd.concat([total, pd.get_dummies(total['TicketNum'], prefix='TicketNum')], axis=1)"
   ]
  },
  {
   "cell_type": "code",
   "execution_count": 8,
   "metadata": {},
   "outputs": [],
   "source": [
    "total.drop('Title',axis=1,inplace=True)\n",
    "total.drop('Embarked',axis=1,inplace=True)\n",
    "total.drop('Cabin', axis=1, inplace=True)\n",
    "total.drop('Pclass',axis=1,inplace=True)\n",
    "total.drop('Ticket', inplace=True, axis=1)\n",
    "total.drop('PassengerId', inplace=True, axis=1)\n",
    "total.drop('Survived', axis=1, inplace=True)\n",
    "total.drop('Age',axis=1, inplace=True)\n",
    "\n"
   ]
  },
  {
   "cell_type": "code",
   "execution_count": 9,
   "metadata": {
    "collapsed": true
   },
   "outputs": [],
   "source": [
    "data_y=train['Survived']\n",
    "data_x=total.iloc[range(len(data_y))]\n",
    "test_x=total.iloc[len(data_y):]\n"
   ]
  },
  {
   "cell_type": "code",
   "execution_count": 10,
   "metadata": {},
   "outputs": [],
   "source": [
    "fixed_params = {\n",
    "    'max_depth':3,\n",
    "    'min_chil_weight':1,\n",
    "    'learning_rate':0.1,\n",
    "    'n_estimators':17,\n",
    "    'gamma':0,\n",
    "    'reg_alpha':1e-9,\n",
    "    'random_state':seed,\n",
    "    'subsample':0.8,\n",
    "    'colsample_bytree':0.9,\n",
    "    'objective':'binary:logistic',\n",
    "}\n",
    "model = xgb.XGBClassifier(**fixed_params)"
   ]
  },
  {
   "cell_type": "code",
   "execution_count": 11,
   "metadata": {},
   "outputs": [
    {
     "data": {
      "image/png": "[encoded data removed]",
      "text/plain": [
       "<matplotlib.figure.Figure at 0x7f7da0be1110>"
      ]
     },
     "metadata": {},
     "output_type": "display_data"
    },
    {
     "name": "stdout",
     "output_type": "stream",
     "text": [
      "Model Report\n",
      "Mean Accuray: 0.821568\n",
      "Mean AUC: 0.872547\n",
      "Mean Logloss 0.428030\n",
      "[96 13]\n",
      "[18 49]\n",
      "[[96 13]\n",
      " [18 49]]\n",
      "Mean Precision: 0.731343\n",
      "Mean Recall: 0.790323\n"
     ]
    }
   ],
   "source": [
    "cross_validate(model, data_x, data_y,seed=seed, rep=1, cv=5)"
   ]
  },
  {
   "cell_type": "code",
   "execution_count": null,
   "metadata": {},
   "outputs": [],
   "source": [
    "# 0.832007 0.880783\n",
    "# 0.826388 0.869255\n",
    "# 0.826956 0.871388\n",
    "xgb.plot_importance(model)\n",
    "plt.show()"
   ]
  },
  {
   "cell_type": "code",
   "execution_count": 42,
   "metadata": {},
   "outputs": [
    {
     "name": "stdout",
     "output_type": "stream",
     "text": [
      "17\n"
     ]
    }
   ],
   "source": [
    "# Find the best num_of_estimator until auc doesnt improve for 50 rounds\n",
    "fixed_params = {\n",
    "    'max_depth':3,\n",
    "    'min_chil_weight':1,\n",
    "    'learning_rate':0.1,\n",
    "    'n_estimators':1000,\n",
    "    'gamma':0,\n",
    "    'reg_alpha':1e-9,\n",
    "    'random_state':seed,\n",
    "    'subsample':0.8,\n",
    "    'colsample_bytree':0.9,\n",
    "    'objective':'binary:logistic',\n",
    "}\n",
    "alg=xgb.XGBClassifier(**fixed_params)\n",
    "xgb_param = alg.get_xgb_params()\n",
    "xgtrain = xgb.DMatrix(data_x, label=data_y)\n",
    "cvresult = xgb.cv(xgb_param, xgtrain, num_boost_round=alg.get_params()['n_estimators'],\n",
    "                  nfold=5,\n",
    "                  metrics='auc',\n",
    "                  early_stopping_rounds=50,\n",
    "                  )\n",
    "print cvresult.shape[0]"
   ]
  },
  {
   "cell_type": "code",
   "execution_count": 32,
   "metadata": {
    "scrolled": true
   },
   "outputs": [
    {
     "data": {
      "text/plain": [
       "GridSearchCV(cv=5, error_score='raise',\n",
       "       estimator=XGBClassifier(base_score=0.5, booster='gbtree', colsample_bylevel=1,\n",
       "       colsample_bytree=0.9, gamma=0, learning_rate=0.05, max_delta_step=0,\n",
       "       max_depth=3, min_chil_weight=1, min_child_weight=1, missing=None,\n",
       "       n_estimators=33, n_jobs=1, nthread=None,\n",
       "       objective='binary:logistic', random_state=3423, reg_alpha=0,\n",
       "       reg_lambda=1, scale_pos_weight=1, seed=None, silent=True,\n",
       "       subsample=0.8),\n",
       "       fit_params={}, iid=True, n_jobs=-1,\n",
       "       param_grid={'reg_alpha': [1e-09, 1e-07, 1e-05, 0.001]},\n",
       "       pre_dispatch='2*n_jobs', refit=True, scoring='roc_auc', verbose=0)"
      ]
     },
     "execution_count": 32,
     "metadata": {},
     "output_type": "execute_result"
    }
   ],
   "source": [
    "# disable gamma, reg_alpha\n",
    "# train depth+child_weight\n",
    "# gamma\n",
    "# subsample+ subcol\n",
    "# reg_alpha\n",
    "cv_params = {\n",
    "#    'max_depth':range(3,10),\n",
    "#    'min_child_weight':range(6),\n",
    "#    'gamma':[i/10.0 for i in range(0,10)],\n",
    "#    'subsample':[0.5,0.6,0.7,0.8,0.9],\n",
    "#    'colsample_bytree':[0.5,0.6,0.7,0.8,0.9],\n",
    "#    'reg_alpha':[1e-9, 1e-7,1e-5,1e-3]\n",
    "#    'reg_alpha':[1e-5, 1e-2, 0.1, 1, 100],\n",
    "#    'reg_alpha':[0, 0.001, 0.005, 0.01, 0.05], \n",
    "#    'reg_alpha':[0.5,1,5,10],\n",
    "#    'learning_rate':[0.05,0.1,0.2],\n",
    "#    'n_estimators':[20,40,60,100,200]\n",
    "}\n",
    "fixed_params = {\n",
    "    'max_depth':3,\n",
    "    'min_chil_weight':1,\n",
    "    'learning_rate':0.05,\n",
    "    'n_estimators':33,\n",
    "    'gamma':0,\n",
    "#    'reg_alpha':1e-9,\n",
    "    'random_state':seed,\n",
    "    'subsample':0.8,\n",
    "    'colsample_bytree':0.9,\n",
    "    'objective':'binary:logistic',\n",
    "}\n",
    "optimized_gbm = GridSearchCV(xgb.XGBClassifier(**fixed_params),\n",
    "                            cv_params,\n",
    "                            scoring='roc_auc',\n",
    "                            cv=5,\n",
    "                            n_jobs=-1)\n",
    "optimized_gbm.fit(data_x,data_y)\n"
   ]
  },
  {
   "cell_type": "code",
   "execution_count": 33,
   "metadata": {},
   "outputs": [
    {
     "data": {
      "text/plain": [
       "([mean: 0.87707, std: 0.02972, params: {'reg_alpha': 1e-09},\n",
       "  mean: 0.87707, std: 0.02972, params: {'reg_alpha': 1e-07},\n",
       "  mean: 0.87707, std: 0.02972, params: {'reg_alpha': 1e-05},\n",
       "  mean: 0.87707, std: 0.02972, params: {'reg_alpha': 0.001}],\n",
       " {'reg_alpha': 1e-09},\n",
       " 0.8770702516777202)"
      ]
     },
     "execution_count": 33,
     "metadata": {},
     "output_type": "execute_result"
    }
   ],
   "source": [
    "optimized_gbm.grid_scores_,optimized_gbm.best_params_,optimized_gbm.best_score_"
   ]
  },
  {
   "cell_type": "code",
   "execution_count": 46,
   "metadata": {},
   "outputs": [],
   "source": [
    "fixed_params = {\n",
    "    'max_depth':3,\n",
    "    'min_chil_weight':1,\n",
    "    'learning_rate':0.1,\n",
    "    'n_estimators':17,\n",
    "    'gamma':0,\n",
    "    'reg_alpha':1e-9,\n",
    "    'random_state':seed,\n",
    "    'subsample':0.8,\n",
    "    'colsample_bytree':0.9,\n",
    "    'objective':'binary:logistic',\n",
    "}\n",
    "model = xgb.XGBClassifier(**fixed_params)\n",
    "model.fit(data_x,data_y)\n",
    "test_predictions = model.predict(test_x)\n",
    "submission = pd.DataFrame({ 'PassengerId': test['PassengerId'],\n",
    "                            'Survived': test_predictions })\n",
    "submission.to_csv(\"submission_no_fare.csv\", index=False)"
   ]
  }
 ],
 "metadata": {
  "kernelspec": {
   "display_name": "cv",
   "language": "python",
   "name": "cv"
  },
  "language_info": {
   "codemirror_mode": {
    "name": "ipython",
    "version": 2
   },
   "file_extension": ".py",
   "mimetype": "text/x-python",
   "name": "python",
   "nbconvert_exporter": "python",
   "pygments_lexer": "ipython2",
   "version": "2.7.12"
  }
 },
 "nbformat": 4,
 "nbformat_minor": 2
}
