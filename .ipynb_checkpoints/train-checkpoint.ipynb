{
 "cells": [
  {
   "cell_type": "code",
   "execution_count": 3,
   "metadata": {
    "collapsed": true
   },
   "outputs": [],
   "source": [
    "import re\n",
    "import xgboost as xgb\n",
    "import pandas as pd\n",
    "import numpy as np\n",
    "import sklearn.model_selection as ms\n",
    "import sklearn.preprocessing as pp\n",
    "from sklearn import metrics\n",
    "import matplotlib.pylab as plt\n"
   ]
  },
  {
   "cell_type": "code",
   "execution_count": 4,
   "metadata": {},
   "outputs": [],
   "source": [
    "train = pd.read_csv('train.csv')\n",
    "test = pd.read_csv('test.csv')\n",
    "total=pd.concat([train,test])\n",
    "PassengerId=total['PassengerId']"
   ]
  },
  {
   "cell_type": "code",
   "execution_count": 5,
   "metadata": {
    "collapsed": true
   },
   "outputs": [],
   "source": [
    "def fill_features(df):\n",
    "    df['Embarked'].fillna('S',inplace=True)\n",
    "    df['Fare'].fillna(df['Fare'].median(),inplace=True)\n",
    "    mu=df['Age'].mean()\n",
    "    delta=df['Age'].std()\n",
    "    rand_list=np.random.randint(mu-delta,mu+delta,size=df['Age'].isnull().sum())\n",
    "    df.loc[df['Age'].isnull(), 'Age']=rand_list\n",
    "    df['Age']=df['Age'].astype(int)\n",
    "    return df\n"
   ]
  },
  {
   "cell_type": "code",
   "execution_count": 6,
   "metadata": {},
   "outputs": [],
   "source": [
    "def add_features(df):\n",
    "    df['FamilySize']=df['SibSp']+df['Parch']+1\n",
    "    df['IsAlone']=1\n",
    "    df.loc[df['FamilySize']>1, 'IsAlone']=0\n",
    "    df['HasCabin']=df['Cabin'].apply(lambda x: 0 if type(x)==float else 1)\n",
    "    return df\n",
    "#total[['Embarked','Survived']].groupby('Embarked', as_index=False).mean()"
   ]
  },
  {
   "cell_type": "code",
   "execution_count": 7,
   "metadata": {
    "collapsed": true
   },
   "outputs": [],
   "source": [
    "def simplify_features(df):\n",
    "    df=simplify_fare(df)\n",
    "    df=simplify_ages(df)\n",
    "    df=simplify_title(df)\n",
    "    return df"
   ]
  },
  {
   "cell_type": "code",
   "execution_count": 8,
   "metadata": {},
   "outputs": [],
   "source": [
    "def simplify_fare(df):\n",
    "    bins=(-1,0,7.896,14.454,31.275,512.4)\n",
    "    tags=['unknown', 'first','second','third','forth']\n",
    "    df['Fare']=pd.cut(df['Fare'], bins, tags)\n",
    "    return df\n",
    "#df['FareCategorical']=pd.qcut(df['Fare'],4)\n",
    "#df[['FareCategorical','Survived']].groupby('FareCategorical', as_index=False).mean()\n",
    "\n",
    "def simplify_ages(df):\n",
    "    bins=(-1,0,5,12,18,25,35,60,120)\n",
    "    tags = ['Unknown', 'Baby', 'Child', 'Teenager', 'Student', 'Young Adult', 'Adult', 'Senior']\n",
    "    df['Age'] = pd.cut(df['Age'],bins , labels=tags) \n",
    "    return df\n",
    "\n",
    "#total['AgeCategorical']=pd.cut(total['Age'],5)\n",
    "#total[['AgeCategorical','Survived']].groupby('AgeCategorical', as_index=False).mean()\n",
    "\n",
    "def get_title(name):\n",
    "    title_search = re.search(' ([A-Za-z]+)\\.', name)\n",
    "    # If the title exists, extract and return it.\n",
    "    if title_search:\n",
    "        return title_search.group(1)\n",
    "    return \"\"\n",
    "\n",
    "def simplify_title(df):\n",
    "    df['Title'] = df['Name'].apply(get_title)\n",
    "    df['Title'] = df['Title'].replace(['Lady', 'Countess','Capt', 'Col','Don', 'Dr', 'Major', 'Rev', 'Sir', 'Jonkheer', 'Dona'], 'Rare')\n",
    "    df['Title'] = df['Title'].replace('Mlle', 'Miss')\n",
    "    df['Title'] = df['Title'].replace('Ms', 'Miss')\n",
    "    df['Title'] = df['Title'].replace('Mme', 'Mrs')\n",
    "    return df\n"
   ]
  },
  {
   "cell_type": "code",
   "execution_count": 9,
   "metadata": {},
   "outputs": [],
   "source": [
    "def drop_features(df):\n",
    "    df.drop('PassengerId',axis=1,inplace=True)\n",
    "    df.drop('Name',axis=1,inplace=True)\n",
    "    df.drop('Cabin',axis=1,inplace=True)\n",
    "    df.drop('SibSp',axis=1,inplace=True)\n",
    "    #total.drop('Parch',axis=1,inplace=True)\n",
    "    df.drop('Ticket',axis=1,inplace=True)\n",
    "    return df\n"
   ]
  },
  {
   "cell_type": "code",
   "execution_count": 10,
   "metadata": {},
   "outputs": [],
   "source": [
    "total=fill_features(total)\n",
    "total=add_features(total)\n",
    "total=simplify_features(total)\n",
    "total=drop_features(total)"
   ]
  },
  {
   "cell_type": "code",
   "execution_count": 11,
   "metadata": {},
   "outputs": [],
   "source": [
    "def encode_features(df):\n",
    "    features = ['Fare', 'Age', 'Embarked', 'Sex', 'Title']\n",
    "    for feature in features:\n",
    "        le=pp.LabelEncoder()\n",
    "        le=le.fit(df[feature])\n",
    "        df[feature]=le.transform(df[feature])\n",
    "    return df\n",
    "total=encode_features(total)"
   ]
  },
  {
   "cell_type": "code",
   "execution_count": 12,
   "metadata": {},
   "outputs": [
    {
     "name": "stdout",
     "output_type": "stream",
     "text": [
      "Index([u'Age', u'Embarked', u'Fare', u'Parch', u'Pclass', u'Sex',\n",
      "       u'FamilySize', u'IsAlone', u'HasCabin', u'Title'],\n",
      "      dtype='object')\n"
     ]
    }
   ],
   "source": [
    "y_train=train['Survived']\n",
    "total.drop('Survived', axis=1, inplace=True)\n",
    "print total.columns\n",
    "#x_all=total.iloc[range(len(train_y))]\n",
    "train_all=total.iloc[range(len(y_train))]"
   ]
  },
  {
   "cell_type": "code",
   "execution_count": 11,
   "metadata": {},
   "outputs": [
    {
     "ename": "NameError",
     "evalue": "name 'x_all' is not defined",
     "output_type": "error",
     "traceback": [
      "\u001b[0;31m---------------------------------------------------------------------------\u001b[0m",
      "\u001b[0;31mNameError\u001b[0m                                 Traceback (most recent call last)",
      "\u001b[0;32m<ipython-input-11-6e8ba0cda167>\u001b[0m in \u001b[0;36m<module>\u001b[0;34m()\u001b[0m\n\u001b[1;32m      1\u001b[0m \u001b[0;34m\u001b[0m\u001b[0m\n\u001b[1;32m      2\u001b[0m \u001b[0mnum_test\u001b[0m\u001b[0;34m=\u001b[0m\u001b[0;36m0.20\u001b[0m\u001b[0;34m\u001b[0m\u001b[0m\n\u001b[0;32m----> 3\u001b[0;31m \u001b[0mtrain_x\u001b[0m\u001b[0;34m,\u001b[0m\u001b[0mtest_x\u001b[0m\u001b[0;34m,\u001b[0m\u001b[0mtrain_y\u001b[0m\u001b[0;34m,\u001b[0m\u001b[0mtest_y\u001b[0m \u001b[0;34m=\u001b[0m \u001b[0mms\u001b[0m\u001b[0;34m.\u001b[0m\u001b[0mtrain_test_split\u001b[0m\u001b[0;34m(\u001b[0m\u001b[0mx_all\u001b[0m\u001b[0;34m,\u001b[0m\u001b[0my_all\u001b[0m\u001b[0;34m,\u001b[0m \u001b[0mtest_size\u001b[0m\u001b[0;34m=\u001b[0m\u001b[0mnum_test\u001b[0m\u001b[0;34m,\u001b[0m \u001b[0mrandom_state\u001b[0m\u001b[0;34m=\u001b[0m\u001b[0;36m23\u001b[0m\u001b[0;34m)\u001b[0m\u001b[0;34m\u001b[0m\u001b[0m\n\u001b[0m",
      "\u001b[0;31mNameError\u001b[0m: name 'x_all' is not defined"
     ]
    }
   ],
   "source": [
    "\n",
    "num_test=0.20\n",
    "train_x,test_x,train_y,test_y = ms.train_test_split(x_all,y_all, test_size=num_test, random_state=23)"
   ]
  },
  {
   "cell_type": "code",
   "execution_count": 12,
   "metadata": {
    "collapsed": true
   },
   "outputs": [],
   "source": [
    "#train_y = train['Survived']\n",
    "\n",
    "#total.drop('Survived', axis=1, inplace=True)\n",
    "\n",
    "\n",
    "#total_array = total.as_matrix()\n",
    "\n",
    "#train_x = total_array[:len(train_y),:]\n",
    "#test_x = total_array[len(train_y):,:]\n",
    "\n",
    "\n",
    "\n",
    "\n",
    "#predictions = gbm.predict(test_x)\n",
    "#submission = pd.DataFrame({ 'PassengerId': test['PassengerId'],\n",
    "#                            'Survived': predictions })\n",
    "#submission.to_csv(\"submission.csv\", index=False)\n"
   ]
  },
  {
   "cell_type": "code",
   "execution_count": 28,
   "metadata": {},
   "outputs": [
    {
     "name": "stdout",
     "output_type": "stream",
     "text": [
      "[0]\ttrain-auc:0.852257\ttest-auc:0.84576\n",
      "Multiple eval metrics have been passed: 'test-auc' will be used for early stopping.\n",
      "\n",
      "Will train until test-auc hasn't improved in 50 rounds.\n",
      "[1]\ttrain-auc:0.867995\ttest-auc:0.853141\n",
      "[2]\ttrain-auc:0.87056\ttest-auc:0.860681\n",
      "[3]\ttrain-auc:0.874326\ttest-auc:0.865615\n",
      "[4]\ttrain-auc:0.87554\ttest-auc:0.865873\n",
      "[5]\ttrain-auc:0.879143\ttest-auc:0.869977\n",
      "[6]\ttrain-auc:0.883347\ttest-auc:0.870672\n",
      "[7]\ttrain-auc:0.887047\ttest-auc:0.871264\n",
      "[8]\ttrain-auc:0.887867\ttest-auc:0.870436\n",
      "[9]\ttrain-auc:0.888172\ttest-auc:0.870722\n",
      "[10]\ttrain-auc:0.890069\ttest-auc:0.870567\n",
      "[11]\ttrain-auc:0.891035\ttest-auc:0.87107\n",
      "[12]\ttrain-auc:0.891743\ttest-auc:0.87142\n",
      "[13]\ttrain-auc:0.893388\ttest-auc:0.872383\n",
      "[14]\ttrain-auc:0.89429\ttest-auc:0.873042\n",
      "[15]\ttrain-auc:0.89585\ttest-auc:0.871852\n",
      "[16]\ttrain-auc:0.897266\ttest-auc:0.87231\n",
      "[17]\ttrain-auc:0.897632\ttest-auc:0.871873\n",
      "[18]\ttrain-auc:0.897992\ttest-auc:0.873561\n",
      "[19]\ttrain-auc:0.898796\ttest-auc:0.874456\n",
      "[20]\ttrain-auc:0.89935\ttest-auc:0.875575\n",
      "[21]\ttrain-auc:0.900108\ttest-auc:0.875524\n",
      "[22]\ttrain-auc:0.900531\ttest-auc:0.876084\n",
      "[23]\ttrain-auc:0.901406\ttest-auc:0.87721\n",
      "[24]\ttrain-auc:0.901661\ttest-auc:0.876282\n",
      "[25]\ttrain-auc:0.902142\ttest-auc:0.876094\n",
      "[26]\ttrain-auc:0.903143\ttest-auc:0.876388\n",
      "[27]\ttrain-auc:0.903427\ttest-auc:0.876891\n",
      "[28]\ttrain-auc:0.903745\ttest-auc:0.87667\n",
      "[29]\ttrain-auc:0.904601\ttest-auc:0.876904\n",
      "[30]\ttrain-auc:0.905233\ttest-auc:0.876667\n",
      "[31]\ttrain-auc:0.905573\ttest-auc:0.876847\n",
      "[32]\ttrain-auc:0.906315\ttest-auc:0.876903\n",
      "[33]\ttrain-auc:0.906733\ttest-auc:0.877428\n",
      "[34]\ttrain-auc:0.907042\ttest-auc:0.877532\n",
      "[35]\ttrain-auc:0.907441\ttest-auc:0.877905\n",
      "[36]\ttrain-auc:0.908018\ttest-auc:0.877906\n",
      "[37]\ttrain-auc:0.908733\ttest-auc:0.878095\n",
      "[38]\ttrain-auc:0.909399\ttest-auc:0.87827\n",
      "[39]\ttrain-auc:0.909558\ttest-auc:0.878247\n",
      "[40]\ttrain-auc:0.90989\ttest-auc:0.878491\n",
      "[41]\ttrain-auc:0.910666\ttest-auc:0.87788\n",
      "[42]\ttrain-auc:0.911073\ttest-auc:0.878179\n",
      "[43]\ttrain-auc:0.911516\ttest-auc:0.878051\n",
      "[44]\ttrain-auc:0.911614\ttest-auc:0.877898\n",
      "[45]\ttrain-auc:0.911869\ttest-auc:0.878309\n",
      "[46]\ttrain-auc:0.912414\ttest-auc:0.876556\n",
      "[47]\ttrain-auc:0.912829\ttest-auc:0.876789\n",
      "[48]\ttrain-auc:0.913274\ttest-auc:0.876811\n",
      "[49]\ttrain-auc:0.913455\ttest-auc:0.877225\n",
      "[50]\ttrain-auc:0.913399\ttest-auc:0.877207\n",
      "[51]\ttrain-auc:0.913543\ttest-auc:0.876405\n",
      "[52]\ttrain-auc:0.914074\ttest-auc:0.876252\n",
      "[53]\ttrain-auc:0.914578\ttest-auc:0.875946\n",
      "[54]\ttrain-auc:0.914742\ttest-auc:0.875809\n",
      "[55]\ttrain-auc:0.914584\ttest-auc:0.875746\n",
      "[56]\ttrain-auc:0.91471\ttest-auc:0.876142\n",
      "[57]\ttrain-auc:0.914717\ttest-auc:0.876463\n",
      "[58]\ttrain-auc:0.914875\ttest-auc:0.876692\n",
      "[59]\ttrain-auc:0.915134\ttest-auc:0.876591\n",
      "[60]\ttrain-auc:0.915524\ttest-auc:0.876126\n",
      "[61]\ttrain-auc:0.915768\ttest-auc:0.875795\n",
      "[62]\ttrain-auc:0.916012\ttest-auc:0.876257\n",
      "[63]\ttrain-auc:0.916104\ttest-auc:0.876112\n",
      "[64]\ttrain-auc:0.916318\ttest-auc:0.876087\n",
      "[65]\ttrain-auc:0.916288\ttest-auc:0.876293\n",
      "[66]\ttrain-auc:0.916375\ttest-auc:0.875582\n",
      "[67]\ttrain-auc:0.916452\ttest-auc:0.875587\n",
      "[68]\ttrain-auc:0.916683\ttest-auc:0.875373\n",
      "[69]\ttrain-auc:0.916614\ttest-auc:0.87544\n",
      "[70]\ttrain-auc:0.91712\ttest-auc:0.875692\n",
      "[71]\ttrain-auc:0.917264\ttest-auc:0.875606\n",
      "[72]\ttrain-auc:0.917469\ttest-auc:0.87593\n",
      "[73]\ttrain-auc:0.917707\ttest-auc:0.876172\n",
      "[74]\ttrain-auc:0.917862\ttest-auc:0.875881\n",
      "[75]\ttrain-auc:0.917787\ttest-auc:0.876279\n",
      "[76]\ttrain-auc:0.918\ttest-auc:0.876118\n",
      "[77]\ttrain-auc:0.917848\ttest-auc:0.875953\n",
      "[78]\ttrain-auc:0.91813\ttest-auc:0.875447\n",
      "[79]\ttrain-auc:0.918215\ttest-auc:0.875582\n",
      "[80]\ttrain-auc:0.918377\ttest-auc:0.875821\n",
      "[81]\ttrain-auc:0.918635\ttest-auc:0.876161\n",
      "[82]\ttrain-auc:0.91879\ttest-auc:0.876083\n",
      "[83]\ttrain-auc:0.918932\ttest-auc:0.876067\n",
      "[84]\ttrain-auc:0.919058\ttest-auc:0.876144\n",
      "[85]\ttrain-auc:0.919184\ttest-auc:0.875512\n",
      "[86]\ttrain-auc:0.919329\ttest-auc:0.875439\n",
      "[87]\ttrain-auc:0.919419\ttest-auc:0.875887\n",
      "[88]\ttrain-auc:0.919364\ttest-auc:0.876256\n",
      "[89]\ttrain-auc:0.919635\ttest-auc:0.876663\n",
      "[90]\ttrain-auc:0.919847\ttest-auc:0.876375\n",
      "Stopping. Best iteration:\n",
      "[40]\ttrain-auc:0.90989+0.00645104\ttest-auc:0.878491+0.0257967\n",
      "\n",
      "\n",
      "Model Report\n",
      "Accuracy : 0.8552\n",
      "AUC Score (Train): 0.909469\n"
     ]
    },
    {
     "data": {
      "image/png": "[encoded data removed]",
      "text/plain": [
       "<matplotlib.figure.Figure at 0x7fcb83d61850>"
      ]
     },
     "metadata": {},
     "output_type": "display_data"
    }
   ],
   "source": [
    "#param_grid = {'n_estimators'=\n",
    "#              'max_depth':range(3,6,1), \n",
    "#              'min_child_weight':range(1,6,1),\n",
    "#              'gamma':[i/10.0 for i in range(2,8)],\n",
    "#              'subsample':[i/100.0 for i in range(60,100,5)],\n",
    "#              'colsample_bytree':[i/100.0 for i in range(60,100,5)]}\n",
    "\n",
    "model = xgb.XGBClassifier(learning_rate =0.1, \n",
    "                      n_estimators=1000, \n",
    "                      max_depth=8,\n",
    "                      min_child_weight=4, \n",
    "                      gamma=0.8, \n",
    "                      subsample=0.8, \n",
    "                      colsample_bytree=0.8,\n",
    "                      objective= 'binary:logistic', \n",
    "                      n_jobs=4, \n",
    "                      scale_pos_weight=1,)\n",
    "\n",
    "xgbTrain = xgb.DMatrix(train_all.values, label=y_train.values)\n",
    "xgbParams = model.get_xgb_params()\n",
    "cv_result=xgb.cv(xgbParams,\n",
    "                 xgbTrain,\n",
    "                 num_boost_round=model.get_params()['n_estimators'],\n",
    "                 nfold= 5,\n",
    "                 metrics='auc',\n",
    "                 early_stopping_rounds=50,\n",
    "                 callbacks=[xgb.callback.print_evaluation(show_stdv=False), xgb.callback.early_stop(50)],\n",
    "                 random_state=29)\n",
    "\n",
    "model.set_params(n_estimators=cv_result.shape[0])\n",
    "model.fit(train_all,y_train, eval_metric='auc')\n",
    "\n",
    "predictions = model.predict(train_all)\n",
    "pred_prob = model.predict_proba(train_all)[:,1]\n",
    "\n",
    "print \"\\nModel Report\"\n",
    "print \"Accuracy : %.4g\" % metrics.accuracy_score(y_train.values, predictions)\n",
    "print \"AUC Score (Train): %f\" % metrics.roc_auc_score(y_train, pred_prob)\n",
    "#grid = ms.GridSearchCV(estimator=model, param_grid=param_grid, scoring='roc_auc', n_jobs=-1, verbose=1)\n",
    "#grid.fit(train_x,train_y)\n",
    "\n",
    "xgb.plot_importance(model)\n",
    "plt.show()"
   ]
  },
  {
   "cell_type": "code",
   "execution_count": null,
   "metadata": {
    "collapsed": true
   },
   "outputs": [],
   "source": [
    "#print (grid.best_score_)\n",
    "#print (grid.best_params_)"
   ]
  },
  {
   "cell_type": "code",
   "execution_count": null,
   "metadata": {},
   "outputs": [],
   "source": [
    "param_test1 = {\n",
    " 'max_depth':range(3,10,2),\n",
    " 'min_child_weight':range(1,6,2)\n",
    "}\n",
    "gsearch1 = ms.GridSearchCV(estimator = xgb.XGBClassifier( learning_rate =0.1, n_estimators=51, max_depth=5,\n",
    " min_child_weight=3, gamma=0.2, subsample=0.8, colsample_bytree=0.8,\n",
    " objective= 'binary:logistic', n_jobs=4, scale_pos_weight=1), \n",
    " param_grid = param_test1, scoring='roc_auc',n_jobs=4,iid=False, cv=5)\n",
    "gsearch1.fit(train_all, y_train)\n",
    "gsearch1.grid_scores_, gsearch1.best_params_, gsearch1.best_score_\n"
   ]
  },
  {
   "cell_type": "code",
   "execution_count": 12,
   "metadata": {},
   "outputs": [
    {
     "data": {
      "text/html": [
       "<div>\n",
       "<style>\n",
       "    .dataframe thead tr:only-child th {\n",
       "        text-align: right;\n",
       "    }\n",
       "\n",
       "    .dataframe thead th {\n",
       "        text-align: left;\n",
       "    }\n",
       "\n",
       "    .dataframe tbody tr th {\n",
       "        vertical-align: top;\n",
       "    }\n",
       "</style>\n",
       "<table border=\"1\" class=\"dataframe\">\n",
       "  <thead>\n",
       "    <tr style=\"text-align: right;\">\n",
       "      <th></th>\n",
       "      <th>Age</th>\n",
       "      <th>Embarked</th>\n",
       "      <th>Fare</th>\n",
       "      <th>Parch</th>\n",
       "      <th>Pclass</th>\n",
       "      <th>Sex</th>\n",
       "      <th>FamilySize</th>\n",
       "      <th>IsAlone</th>\n",
       "      <th>HasCabin</th>\n",
       "      <th>Title</th>\n",
       "    </tr>\n",
       "  </thead>\n",
       "  <tbody>\n",
       "    <tr>\n",
       "      <th>0</th>\n",
       "      <td>4</td>\n",
       "      <td>2</td>\n",
       "      <td>1</td>\n",
       "      <td>0</td>\n",
       "      <td>3</td>\n",
       "      <td>1</td>\n",
       "      <td>2</td>\n",
       "      <td>0</td>\n",
       "      <td>0</td>\n",
       "      <td>2</td>\n",
       "    </tr>\n",
       "    <tr>\n",
       "      <th>1</th>\n",
       "      <td>0</td>\n",
       "      <td>0</td>\n",
       "      <td>4</td>\n",
       "      <td>0</td>\n",
       "      <td>1</td>\n",
       "      <td>0</td>\n",
       "      <td>2</td>\n",
       "      <td>0</td>\n",
       "      <td>1</td>\n",
       "      <td>3</td>\n",
       "    </tr>\n",
       "    <tr>\n",
       "      <th>2</th>\n",
       "      <td>7</td>\n",
       "      <td>2</td>\n",
       "      <td>2</td>\n",
       "      <td>0</td>\n",
       "      <td>3</td>\n",
       "      <td>0</td>\n",
       "      <td>1</td>\n",
       "      <td>1</td>\n",
       "      <td>0</td>\n",
       "      <td>1</td>\n",
       "    </tr>\n",
       "    <tr>\n",
       "      <th>3</th>\n",
       "      <td>7</td>\n",
       "      <td>2</td>\n",
       "      <td>4</td>\n",
       "      <td>0</td>\n",
       "      <td>1</td>\n",
       "      <td>0</td>\n",
       "      <td>2</td>\n",
       "      <td>0</td>\n",
       "      <td>1</td>\n",
       "      <td>3</td>\n",
       "    </tr>\n",
       "    <tr>\n",
       "      <th>4</th>\n",
       "      <td>7</td>\n",
       "      <td>2</td>\n",
       "      <td>2</td>\n",
       "      <td>0</td>\n",
       "      <td>3</td>\n",
       "      <td>1</td>\n",
       "      <td>1</td>\n",
       "      <td>1</td>\n",
       "      <td>0</td>\n",
       "      <td>2</td>\n",
       "    </tr>\n",
       "  </tbody>\n",
       "</table>\n",
       "</div>"
      ],
      "text/plain": [
       "   Age  Embarked  Fare  Parch  Pclass  Sex  FamilySize  IsAlone  HasCabin  \\\n",
       "0    4         2     1      0       3    1           2        0         0   \n",
       "1    0         0     4      0       1    0           2        0         1   \n",
       "2    7         2     2      0       3    0           1        1         0   \n",
       "3    7         2     4      0       1    0           2        0         1   \n",
       "4    7         2     2      0       3    1           1        1         0   \n",
       "\n",
       "   Title  \n",
       "0      2  \n",
       "1      3  \n",
       "2      1  \n",
       "3      3  \n",
       "4      2  "
      ]
     },
     "execution_count": 12,
     "metadata": {},
     "output_type": "execute_result"
    }
   ],
   "source": [
    "train_all.head(5)"
   ]
  }
 ],
 "metadata": {
  "kernelspec": {
   "display_name": "cv",
   "language": "python",
   "name": "cv"
  },
  "language_info": {
   "codemirror_mode": {
    "name": "ipython",
    "version": 2
   },
   "file_extension": ".py",
   "mimetype": "text/x-python",
   "name": "python",
   "nbconvert_exporter": "python",
   "pygments_lexer": "ipython2",
   "version": "2.7.12"
  }
 },
 "nbformat": 4,
 "nbformat_minor": 2
}
