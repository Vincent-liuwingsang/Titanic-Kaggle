{
 "cells": [
  {
   "cell_type": "code",
   "execution_count": 43,
   "metadata": {},
   "outputs": [],
   "source": [
    "import re\n",
    "import math\n",
    "import seaborn as sns\n",
    "import xgboost as xgb\n",
    "import pandas as pd\n",
    "import numpy as np\n",
    "import sklearn.model_selection as ms\n",
    "import sklearn.preprocessing as pp\n",
    "import sklearn.feature_selection as fs\n",
    "from sklearn.cross_validation import StratifiedKFold\n",
    "from sklearn import metrics\n",
    "from sklearn.grid_search import GridSearchCV\n",
    "from sklearn.learning_curve import validation_curve\n",
    "from scipy import interp\n",
    "from metrics import cross_validate\n",
    "from sklearn.metrics import (brier_score_loss, precision_score, recall_score,\n",
    "                             f1_score)\n",
    "from sklearn.calibration import CalibratedClassifierCV, calibration_curve\n",
    "from sklearn.neighbors import KNeighborsClassifier\n",
    "import matplotlib.pylab as plt\n",
    "from features1 import add_title,fill_age,fill_fare,fill_embarked,fill_cabin,fill_ticket,add_family, simplify_ages_intuition,simplify_ages_bins\n",
    "from sklearn.ensemble import RandomForestClassifier, BaggingClassifier\n",
    "\n",
    "seed = 252\n",
    "train = pd.read_csv('train.csv')\n",
    "test = pd.read_csv('test.csv')\n",
    "total=pd.concat([train,test])\n",
    "\n",
    "PassengerId=total['PassengerId']"
   ]
  },
  {
   "cell_type": "code",
   "execution_count": 44,
   "metadata": {},
   "outputs": [
    {
     "name": "stdout",
     "output_type": "stream",
     "text": [
      "<class 'pandas.core.frame.DataFrame'>\n",
      "Int64Index: 1309 entries, 0 to 417\n",
      "Data columns (total 14 columns):\n",
      "Age            1046 non-null float64\n",
      "Cabin          295 non-null object\n",
      "Embarked       1307 non-null object\n",
      "Fare           1308 non-null float64\n",
      "Name           1309 non-null object\n",
      "Parch          1309 non-null int64\n",
      "PassengerId    1309 non-null int64\n",
      "Pclass         1309 non-null int64\n",
      "Sex            1309 non-null object\n",
      "SibSp          1309 non-null int64\n",
      "Survived       891 non-null float64\n",
      "Ticket         1309 non-null object\n",
      "Surname        1309 non-null object\n",
      "Title          1309 non-null object\n",
      "dtypes: float64(3), int64(4), object(7)\n",
      "memory usage: 153.4+ KB\n",
      "<class 'pandas.core.frame.DataFrame'>\n",
      "Int64Index: 1309 entries, 0 to 417\n",
      "Data columns (total 14 columns):\n",
      "Age            1309 non-null float64\n",
      "Cabin          295 non-null object\n",
      "Embarked       1307 non-null object\n",
      "Fare           1308 non-null float64\n",
      "Name           1309 non-null object\n",
      "Parch          1309 non-null int64\n",
      "PassengerId    1309 non-null int64\n",
      "Pclass         1309 non-null int64\n",
      "Sex            1309 non-null object\n",
      "SibSp          1309 non-null int64\n",
      "Survived       891 non-null float64\n",
      "Ticket         1309 non-null object\n",
      "Surname        1309 non-null object\n",
      "Title          1309 non-null object\n",
      "dtypes: float64(3), int64(4), object(7)\n",
      "memory usage: 153.4+ KB\n"
     ]
    }
   ],
   "source": [
    "def add_surname(df):\n",
    "    df['Surname']=df['Name'].apply(lambda x: x.split(\",\")[0])\n",
    "    return df\n",
    "total=add_surname(total)\n",
    "total=add_title(total)\n",
    "total=fill_age(total)\n",
    "total.drop('Name',axis=1,inplace=True)\n",
    "total=add_family(total)\n",
    "total=fill_fare(total)\n",
    "total=fill_embarked(total)\n",
    "total=fill_cabin(total)\n",
    "#total=fill_ticket(total)\n",
    "total=simplify_ages_intuition(total)\n",
    "FFreq=total['Fare'].value_counts()\n",
    "TFreq=total['Ticket'].value_counts()\n",
    "CFreq=total['Cabin'].value_counts()\n",
    "def add_ffreq(df):\n",
    "    total['Ffreq']=total['Fare'].apply(lambda x: FFreq[x] if isinstance(x, float) else 0)\n",
    "    return df\n",
    "def add_tfreq(df):\n",
    "    total['Tfreq']=total['Ticket'].apply(lambda x: TFreq[x])\n",
    "    return df\n",
    "def add_cfreq(df):\n",
    "    total['Cfreq']=total['Cabin'].apply(lambda x: 9999 if isinstance(x, float) else CFreq[x])\n",
    "    return df\n",
    "total=add_ffreq(total)\n",
    "total=add_cfreq(total)\n",
    "total=add_tfreq(total)\n"
   ]
  },
  {
   "cell_type": "code",
   "execution_count": 45,
   "metadata": {
    "collapsed": true
   },
   "outputs": [],
   "source": [
    "def get_gid(r):\n",
    "    if r['SibSp']+r['Parch']>0:\n",
    "        return r['Surname']+\" \"+ str(r['SibSp']+r['Parch'])\n",
    "    if r['Tfreq']>1:\n",
    "        return str(r['Ticket'])\n",
    "    if r['Cfreq']>1 and r['Cfreq']<12:\n",
    "        return str(r['Cabin'])\n",
    "    if r['Ffreq'] and r['Ffreq']<12:\n",
    "        return str(r['Fare'])\n",
    "    return \"Single\"\n",
    "\n",
    "def add_gid(df):\n",
    "    df['GID']=df.apply(get_gid,axis=1)\n",
    "    return df     \n",
    "\n",
    "def check_minor(r):\n",
    "    if r['Age']< 14:\n",
    "        if not r['Pclass']==3:\n",
    "            return 1\n",
    "    return 0\n",
    "def add_minor(df):\n",
    "    df['Minor']=df.apply(check_minor,axis=1)\n",
    "    return df\n",
    "\n",
    "\n",
    "def logl(a):\n",
    "    a=max(a,0.00001)\n",
    "    a=min(a,1.0-0.00001)\n",
    "    return math.log(a/(1-a))\n",
    "\n",
    "total1 = total.iloc[:891]\n",
    "survived=total.loc[total1[\"Survived\"]==1,[\"Pclass\",\"Sex\"]]\n",
    "survived_1 = survived.loc[survived[\"Pclass\"]==1,'Sex']\n",
    "survived_2 = survived.loc[survived[\"Pclass\"]==2,'Sex']\n",
    "survived_3 = survived.loc[survived[\"Pclass\"]==3,'Sex']\n",
    "\n",
    "total_1 = total.loc[total1['Pclass']==1,['Sex','Survived']]\n",
    "total_2 = total.loc[total1['Pclass']==2,['Sex','Survived']]\n",
    "total_3 = total.loc[total1['Pclass']==3,['Sex','Survived']]\n",
    "\n",
    "total_1_m = total_1.loc[total_1['Sex']=='male', 'Survived']\n",
    "total_1_f = total_1.loc[total_1['Sex']=='female', 'Survived']\n",
    "total_2_m = total_2.loc[total_2['Sex']=='male', 'Survived']\n",
    "total_2_f = total_2.loc[total_2['Sex']=='female', 'Survived']\n",
    "total_3_m = total_3.loc[total_3['Sex']=='male', 'Survived']\n",
    "total_3_f = total_3.loc[total_3['Sex']=='female', 'Survived']\n",
    "\n",
    "def get_logl(r):\n",
    "    x=0\n",
    "    if r[\"Pclass\"]==1:\n",
    "        x= survived_1.value_counts()[r['Sex']]\n",
    "        if r['Sex']=='male':\n",
    "            x=1.0*x/total_1_m.shape[0]\n",
    "        else:\n",
    "            x=1.0*x/total_1_f.shape[0]   \n",
    "    elif r[\"Pclass\"]==2:\n",
    "        x= survived_2.value_counts()[r['Sex']]\n",
    "        if r['Sex']=='male':\n",
    "            x=1.0*x/total_2_m.shape[0]\n",
    "        else:\n",
    "            x=1.0*x/total_2_f.shape[0]\n",
    "    else:\n",
    "        x= survived_3.value_counts()[r['Sex']]\n",
    "        if r['Sex']=='male':\n",
    "            x=1.0*x/total_3_m.shape[0]\n",
    "        else:\n",
    "            x=1.0*x/total_3_f.shape[0]\n",
    "    return logl(x)\n",
    "    \n",
    "def add_logl(df):\n",
    "    df['SLogL']=0.0\n",
    "    df.loc[:,('SLogL')]=df.apply(get_logl,axis=1)\n",
    "    return df\n",
    "\n",
    "def ticket_stat(ticket):\n",
    "    if TFreq[ticket]>1:\n",
    "        a=total.iloc[list(np.where(total['Ticket']==ticket)[0])]['Survived']\n",
    "        if pd.isnull(a).sum() >0 and a.sum()>1:\n",
    "            return 3\n",
    "    return 0\n",
    "\n",
    "def slogl_1(df):\n",
    "    df.loc[:,('SLogL')]=df.loc[:,('SLogL')]+df['Ticket'].apply(ticket_stat)\n",
    "    return df\n",
    "def slogl_2(df):\n",
    "    df.loc[:,('SLogL')]=df.loc[:,('SLogL')]+df['GID'].apply(lambda x: -0.5 if x=='Single' else 0)\n",
    "    return df\n",
    "\n",
    "def large_group(n):\n",
    "    if n==7:\n",
    "        return -3\n",
    "    if n==8:\n",
    "        return -1\n",
    "    if n==11:\n",
    "        return -3\n",
    "    return 0\n",
    "\n",
    "def slogl_3(df):\n",
    "    df.loc[:,('SLogL')]=df.loc[:,('SLogL')]+df['Tfreq'].apply(large_group)\n",
    "    return df\n"
   ]
  },
  {
   "cell_type": "code",
   "execution_count": 46,
   "metadata": {
    "collapsed": true
   },
   "outputs": [],
   "source": [
    "total=add_gid(total)\n",
    "total=add_minor(total)\n",
    "total=add_logl(total)\n",
    "total=slogl_1(total)\n",
    "total=slogl_2(total)\n",
    "total=slogl_3(total)\n",
    "total.loc[:,('SLogL')]=total.loc[:,('SLogL')]+total['Minor'].apply(lambda x: 8 if x==1 else 0)"
   ]
  },
  {
   "cell_type": "code",
   "execution_count": 42,
   "metadata": {
    "collapsed": true
   },
   "outputs": [],
   "source": [
    "#total = pd.concat([total,pd.get_dummies(total['Title'],prefix='Title')],axis=1)\n",
    "#total = pd.concat([total,pd.get_dummies(total['Embarked'],prefix='Embarked')],axis=1)\n",
    "#total = pd.concat([total,pd.get_dummies(total['Cabin'], prefix='Cabin')], axis=1)\n",
    "#total = pd.concat([total,pd.get_dummies(total['Pclass'], prefix=\"Pclass\")],axis=1)\n",
    "total = pd.concat([total,pd.get_dummies(total['Age'], prefix=\"Age\")],axis=1)\n",
    "total['Sex'] = total['Sex'].map({'male':1,'female':0})\n",
    "total.drop('Title',axis=1,inplace=True)\n",
    "total.drop('Embarked',axis=1,inplace=True)\n",
    "total.drop('Cabin', axis=1, inplace=True)\n",
    "total.drop('Pclass',axis=1,inplace=True)\n",
    "total.drop('Ticket', inplace=True, axis=1)\n",
    "total.drop('PassengerId', inplace=True, axis=1)\n",
    "total.drop('Survived', axis=1, inplace=True)\n",
    "total.drop('Age',axis=1, inplace=True)\n",
    "\n",
    "#\n",
    "total.drop('Surname', axis=1, inplace=True)\n",
    "total.drop('GID', axis=1, inplace=True)\n",
    "total.drop('Fare', axis=1, inplace=True)\n",
    "total.drop('Parch', axis=1, inplace=True)\n",
    "total.drop('SibSp', axis=1, inplace=True)\n",
    "total.drop('Singleton', axis=1, inplace=True)\n",
    "total.drop('Ffreq', axis=1, inplace=True)\n",
    "total.drop('Tfreq', axis=1, inplace=True)\n",
    "total.drop('Cfreq', axis=1, inplace=True)\n",
    "total.drop('FamilySize', axis=1, inplace=True)\n"
   ]
  },
  {
   "cell_type": "code",
   "execution_count": 34,
   "metadata": {
    "collapsed": true
   },
   "outputs": [],
   "source": [
    "total=total[['SLogL']]"
   ]
  },
  {
   "cell_type": "code",
   "execution_count": 6,
   "metadata": {},
   "outputs": [],
   "source": [
    "total=total[['SLogL','Title_Countess','Title_Master','Title_Miss','Title_Mr','Title_Mrs','Title_Officer','Title_Royalty']]"
   ]
  },
  {
   "cell_type": "code",
   "execution_count": 48,
   "metadata": {},
   "outputs": [
    {
     "name": "stdout",
     "output_type": "stream",
     "text": [
      "<class 'pandas.core.frame.DataFrame'>\n",
      "Int64Index: 1309 entries, 0 to 417\n",
      "Data columns (total 23 columns):\n",
      "Age            1309 non-null category\n",
      "Cabin          1309 non-null int64\n",
      "Embarked       1309 non-null object\n",
      "Fare           1309 non-null float64\n",
      "Parch          1309 non-null int64\n",
      "PassengerId    1309 non-null int64\n",
      "Pclass         1309 non-null int64\n",
      "Sex            1309 non-null object\n",
      "SibSp          1309 non-null int64\n",
      "Survived       891 non-null float64\n",
      "Ticket         1309 non-null object\n",
      "Surname        1309 non-null object\n",
      "Title          1309 non-null object\n",
      "FamilySize     1309 non-null int64\n",
      "Singleton      1309 non-null int64\n",
      "SmallFamily    1309 non-null int64\n",
      "LargeFamily    1309 non-null int64\n",
      "Ffreq          1309 non-null int64\n",
      "Cfreq          1309 non-null int64\n",
      "Tfreq          1309 non-null int64\n",
      "GID            1309 non-null object\n",
      "Minor          1309 non-null int64\n",
      "SLogL          1309 non-null float64\n",
      "dtypes: category(1), float64(3), int64(13), object(6)\n",
      "memory usage: 236.9+ KB\n"
     ]
    }
   ],
   "source": [
    "total.info()"
   ]
  },
  {
   "cell_type": "code",
   "execution_count": 36,
   "metadata": {
    "collapsed": true
   },
   "outputs": [],
   "source": [
    "data_y=train['Survived']\n",
    "data_x=total.iloc[range(len(data_y))]\n",
    "test_x=total.iloc[len(data_y):]"
   ]
  },
  {
   "cell_type": "code",
   "execution_count": 37,
   "metadata": {},
   "outputs": [
    {
     "data": {
      "image/png": "[encoded data removed]",
      "text/plain": [
       "<matplotlib.figure.Figure at 0x7f3b96841d10>"
      ]
     },
     "metadata": {},
     "output_type": "display_data"
    }
   ],
   "source": [
    "means=[]\n",
    "rocs=[]\n",
    "logs=[]\n",
    "precs=[]\n",
    "recs=[]\n",
    "f1s=[]\n",
    "x=range(1,200,2)\n",
    "for i in x:\n",
    "    mean,roc,log,prec,rec,f1=cross_validate(KNeighborsClassifier(i), data_x, data_y,seed=seed, rep=5, cv=10)\n",
    "    means.append(mean)\n",
    "    rocs.append(roc)\n",
    "    logs.append(log)\n",
    "    precs.append(prec)\n",
    "    recs.append(rec)\n",
    "    f1s.append(f1)\n",
    "\n",
    "fig, ax = plt.subplots()\n",
    "ax.set_ylim([0,1])\n",
    "ax.plot(x, means,label='Accuracy')\n",
    "ax.plot(x, rocs,label='ROC_AUC')\n",
    "ax.plot(x, logs,label='LogLoss')\n",
    "ax.plot(x, precs,label='Precision')\n",
    "ax.plot(x, recs,label='Recall')\n",
    "ax.plot(x, f1s,label='f1_score')\n",
    "legend = ax.legend(loc='lower center', shadow=True)\n",
    "plt.show()\n",
    "\n"
   ]
  },
  {
   "cell_type": "code",
   "execution_count": 47,
   "metadata": {},
   "outputs": [
    {
     "data": {
      "text/plain": [
       "(0.8024469413233456,\n",
       " 0.84944804567106369,\n",
       " 0.44417383959052609,\n",
       " 0.5454545454545454,\n",
       " 0.9473684210526315,\n",
       " 0.66996391696803415)"
      ]
     },
     "execution_count": 47,
     "metadata": {},
     "output_type": "execute_result"
    }
   ],
   "source": [
    "#32\n",
    "i=87\n",
    "means[i], rocs[i], logs[i], precs[i], recs[i], f1s[i]"
   ]
  },
  {
   "cell_type": "markdown",
   "metadata": {},
   "source": [
    "(0.79866416978776522,\n",
    " 0.8637091860447107,\n",
    " 0.44759748923783255,\n",
    " 0.696969696969697,\n",
    " 0.7666666666666667,\n",
    " 0.72038629426882284) SLogL title 87\n",
    " \n",
    " (0.8000149812734082,\n",
    " 0.86190636389975273,\n",
    " 0.44536386083655566,\n",
    " 0.5151515151515151,\n",
    " 0.9444444444444444,\n",
    " 0.66621627003161077) SlogL title 200"
   ]
  },
  {
   "cell_type": "code",
   "execution_count": 14,
   "metadata": {},
   "outputs": [
    {
     "name": "stdout",
     "output_type": "stream",
     "text": [
      "<class 'pandas.core.frame.DataFrame'>\n",
      "Int64Index: 1309 entries, 0 to 417\n",
      "Data columns (total 8 columns):\n",
      "SLogL             1309 non-null float64\n",
      "Title_Countess    1309 non-null uint8\n",
      "Title_Master      1309 non-null uint8\n",
      "Title_Miss        1309 non-null uint8\n",
      "Title_Mr          1309 non-null uint8\n",
      "Title_Mrs         1309 non-null uint8\n",
      "Title_Officer     1309 non-null uint8\n",
      "Title_Royalty     1309 non-null uint8\n",
      "dtypes: float64(1), uint8(7)\n",
      "memory usage: 29.4 KB\n"
     ]
    }
   ],
   "source": [
    "total.info()"
   ]
  },
  {
   "cell_type": "code",
   "execution_count": 17,
   "metadata": {},
   "outputs": [
    {
     "data": {
      "text/plain": [
       "([mean: 0.69195, std: 0.06941, params: {'n_neighbors': 1},\n",
       "  mean: 0.66342, std: 0.08858, params: {'n_neighbors': 2},\n",
       "  mean: 0.69652, std: 0.07072, params: {'n_neighbors': 3},\n",
       "  mean: 0.68313, std: 0.10381, params: {'n_neighbors': 4},\n",
       "  mean: 0.72233, std: 0.07827, params: {'n_neighbors': 5},\n",
       "  mean: 0.70491, std: 0.07835, params: {'n_neighbors': 6},\n",
       "  mean: 0.69000, std: 0.07019, params: {'n_neighbors': 7},\n",
       "  mean: 0.69780, std: 0.09225, params: {'n_neighbors': 8},\n",
       "  mean: 0.70840, std: 0.07755, params: {'n_neighbors': 9},\n",
       "  mean: 0.68691, std: 0.09187, params: {'n_neighbors': 10},\n",
       "  mean: 0.69481, std: 0.06502, params: {'n_neighbors': 11},\n",
       "  mean: 0.69377, std: 0.09099, params: {'n_neighbors': 12},\n",
       "  mean: 0.69190, std: 0.07219, params: {'n_neighbors': 13},\n",
       "  mean: 0.70149, std: 0.08307, params: {'n_neighbors': 14},\n",
       "  mean: 0.71593, std: 0.07956, params: {'n_neighbors': 15},\n",
       "  mean: 0.71530, std: 0.07638, params: {'n_neighbors': 16},\n",
       "  mean: 0.71875, std: 0.08231, params: {'n_neighbors': 17},\n",
       "  mean: 0.71280, std: 0.08279, params: {'n_neighbors': 18},\n",
       "  mean: 0.71650, std: 0.07813, params: {'n_neighbors': 19},\n",
       "  mean: 0.70982, std: 0.08101, params: {'n_neighbors': 20},\n",
       "  mean: 0.72947, std: 0.07174, params: {'n_neighbors': 21},\n",
       "  mean: 0.71225, std: 0.07318, params: {'n_neighbors': 22},\n",
       "  mean: 0.70866, std: 0.07604, params: {'n_neighbors': 23},\n",
       "  mean: 0.70325, std: 0.08826, params: {'n_neighbors': 24},\n",
       "  mean: 0.72143, std: 0.07041, params: {'n_neighbors': 25},\n",
       "  mean: 0.70061, std: 0.07467, params: {'n_neighbors': 26},\n",
       "  mean: 0.70384, std: 0.07211, params: {'n_neighbors': 27},\n",
       "  mean: 0.69796, std: 0.07260, params: {'n_neighbors': 28},\n",
       "  mean: 0.69947, std: 0.06839, params: {'n_neighbors': 29},\n",
       "  mean: 0.68747, std: 0.08120, params: {'n_neighbors': 30},\n",
       "  mean: 0.71051, std: 0.06337, params: {'n_neighbors': 31},\n",
       "  mean: 0.69486, std: 0.06893, params: {'n_neighbors': 32},\n",
       "  mean: 0.70987, std: 0.05868, params: {'n_neighbors': 33},\n",
       "  mean: 0.69808, std: 0.06573, params: {'n_neighbors': 34},\n",
       "  mean: 0.70817, std: 0.06164, params: {'n_neighbors': 35},\n",
       "  mean: 0.69779, std: 0.06915, params: {'n_neighbors': 36},\n",
       "  mean: 0.71782, std: 0.05759, params: {'n_neighbors': 37},\n",
       "  mean: 0.70459, std: 0.06586, params: {'n_neighbors': 38},\n",
       "  mean: 0.71684, std: 0.06229, params: {'n_neighbors': 39},\n",
       "  mean: 0.70331, std: 0.06390, params: {'n_neighbors': 40},\n",
       "  mean: 0.71568, std: 0.06425, params: {'n_neighbors': 41},\n",
       "  mean: 0.71487, std: 0.06189, params: {'n_neighbors': 42},\n",
       "  mean: 0.71568, std: 0.06179, params: {'n_neighbors': 43},\n",
       "  mean: 0.70410, std: 0.06396, params: {'n_neighbors': 44},\n",
       "  mean: 0.71073, std: 0.06357, params: {'n_neighbors': 45},\n",
       "  mean: 0.70424, std: 0.05963, params: {'n_neighbors': 46},\n",
       "  mean: 0.70675, std: 0.05980, params: {'n_neighbors': 47},\n",
       "  mean: 0.70795, std: 0.05910, params: {'n_neighbors': 48},\n",
       "  mean: 0.70795, std: 0.05910, params: {'n_neighbors': 49},\n",
       "  mean: 0.70795, std: 0.05910, params: {'n_neighbors': 50},\n",
       "  mean: 0.70795, std: 0.05910, params: {'n_neighbors': 51},\n",
       "  mean: 0.70625, std: 0.05902, params: {'n_neighbors': 52},\n",
       "  mean: 0.70457, std: 0.05802, params: {'n_neighbors': 53},\n",
       "  mean: 0.70457, std: 0.05802, params: {'n_neighbors': 54},\n",
       "  mean: 0.70457, std: 0.05802, params: {'n_neighbors': 55},\n",
       "  mean: 0.70367, std: 0.06194, params: {'n_neighbors': 56},\n",
       "  mean: 0.71399, std: 0.05451, params: {'n_neighbors': 57},\n",
       "  mean: 0.70987, std: 0.05832, params: {'n_neighbors': 58},\n",
       "  mean: 0.71489, std: 0.04983, params: {'n_neighbors': 59},\n",
       "  mean: 0.70121, std: 0.06025, params: {'n_neighbors': 60},\n",
       "  mean: 0.71001, std: 0.06026, params: {'n_neighbors': 61},\n",
       "  mean: 0.71323, std: 0.05871, params: {'n_neighbors': 62},\n",
       "  mean: 0.71209, std: 0.05907, params: {'n_neighbors': 63},\n",
       "  mean: 0.70346, std: 0.06288, params: {'n_neighbors': 64},\n",
       "  mean: 0.70837, std: 0.05881, params: {'n_neighbors': 65},\n",
       "  mean: 0.70748, std: 0.05852, params: {'n_neighbors': 66},\n",
       "  mean: 0.70873, std: 0.05708, params: {'n_neighbors': 67},\n",
       "  mean: 0.70780, std: 0.05793, params: {'n_neighbors': 68},\n",
       "  mean: 0.72135, std: 0.05103, params: {'n_neighbors': 69},\n",
       "  mean: 0.71850, std: 0.05121, params: {'n_neighbors': 70},\n",
       "  mean: 0.70793, std: 0.07015, params: {'n_neighbors': 71},\n",
       "  mean: 0.69988, std: 0.07121, params: {'n_neighbors': 72},\n",
       "  mean: 0.71265, std: 0.05972, params: {'n_neighbors': 73},\n",
       "  mean: 0.67991, std: 0.08099, params: {'n_neighbors': 74},\n",
       "  mean: 0.69305, std: 0.06302, params: {'n_neighbors': 75},\n",
       "  mean: 0.68279, std: 0.07872, params: {'n_neighbors': 76},\n",
       "  mean: 0.70450, std: 0.06102, params: {'n_neighbors': 77},\n",
       "  mean: 0.69393, std: 0.06349, params: {'n_neighbors': 78},\n",
       "  mean: 0.70671, std: 0.06143, params: {'n_neighbors': 79},\n",
       "  mean: 0.70719, std: 0.06242, params: {'n_neighbors': 80},\n",
       "  mean: 0.72886, std: 0.04970, params: {'n_neighbors': 81},\n",
       "  mean: 0.70602, std: 0.07503, params: {'n_neighbors': 82},\n",
       "  mean: 0.72694, std: 0.04936, params: {'n_neighbors': 83},\n",
       "  mean: 0.72361, std: 0.04931, params: {'n_neighbors': 84},\n",
       "  mean: 0.72757, std: 0.05081, params: {'n_neighbors': 85},\n",
       "  mean: 0.72091, std: 0.04597, params: {'n_neighbors': 86},\n",
       "  mean: 0.72669, std: 0.05034, params: {'n_neighbors': 87},\n",
       "  mean: 0.71488, std: 0.05844, params: {'n_neighbors': 88},\n",
       "  mean: 0.71592, std: 0.06076, params: {'n_neighbors': 89},\n",
       "  mean: 0.71488, std: 0.05844, params: {'n_neighbors': 90},\n",
       "  mean: 0.71793, std: 0.06190, params: {'n_neighbors': 91},\n",
       "  mean: 0.71697, std: 0.05899, params: {'n_neighbors': 92},\n",
       "  mean: 0.71488, std: 0.05844, params: {'n_neighbors': 93},\n",
       "  mean: 0.71488, std: 0.05844, params: {'n_neighbors': 94},\n",
       "  mean: 0.71383, std: 0.06019, params: {'n_neighbors': 95},\n",
       "  mean: 0.71156, std: 0.05953, params: {'n_neighbors': 96},\n",
       "  mean: 0.71434, std: 0.06093, params: {'n_neighbors': 97},\n",
       "  mean: 0.70160, std: 0.06568, params: {'n_neighbors': 98},\n",
       "  mean: 0.69950, std: 0.06608, params: {'n_neighbors': 99}],\n",
       " 0.7294699401731535,\n",
       " {'n_neighbors': 21})"
      ]
     },
     "execution_count": 17,
     "metadata": {},
     "output_type": "execute_result"
    }
   ],
   "source": [
    "g = GridSearchCV(KNeighborsClassifier(),{'n_neighbors':range(1,100,1)},cv=10, n_jobs=-1,scoring='f1')\n",
    "g.fit(data_x,data_y)\n",
    "g.grid_scores_,g.best_score_,g.best_params_"
   ]
  },
  {
   "cell_type": "code",
   "execution_count": 50,
   "metadata": {},
   "outputs": [
    {
     "data": {
      "text/plain": [
       "array([0, 0, 0, 0, 0, 0, 0, 1, 0, 0, 0, 0, 1, 0, 1, 1, 0, 0, 0, 0, 0, 0, 1,\n",
       "       0, 1, 0, 1, 0, 0, 0, 0, 0, 0, 0, 0, 0, 0, 0, 0, 1, 0, 0, 0, 1, 1, 0,\n",
       "       0, 0, 1, 1, 0, 0, 1, 1, 0, 0, 0, 0, 0, 1, 0, 0, 0, 0, 0, 1, 0, 0, 0,\n",
       "       1, 0, 0, 0, 0, 1, 0, 0, 1, 0, 0, 0, 0, 0, 0, 0, 0, 0, 0, 0, 0, 0, 0,\n",
       "       1, 0, 0, 0, 1, 0, 0, 0, 1, 0, 0, 0, 0, 0, 0, 0, 0, 0, 0, 0, 1, 0, 1,\n",
       "       0, 0, 1, 0, 1, 1, 0, 1, 0, 0, 0, 0, 1, 0, 0, 0, 0, 0, 0, 0, 0, 0, 0,\n",
       "       0, 0, 0, 1, 0, 0, 0, 0, 0, 0, 0, 0, 1, 0, 0, 0, 0, 0, 1, 0, 0, 0, 0,\n",
       "       0, 1, 0, 0, 0, 0, 0, 1, 0, 0, 0, 0, 0, 0, 1, 1, 0, 1, 1, 0, 0, 1, 0,\n",
       "       1, 0, 1, 0, 0, 0, 0, 0, 0, 0, 0, 0, 1, 0, 0, 0, 0, 0, 1, 1, 0, 0, 0,\n",
       "       0, 1, 0, 0, 0, 0, 1, 0, 0, 0, 1, 1, 0, 1, 0, 1, 0, 1, 1, 0, 0, 0, 0,\n",
       "       1, 1, 0, 0, 0, 0, 0, 0, 1, 1, 1, 1, 1, 0, 0, 0, 1, 0, 1, 0, 1, 0, 0,\n",
       "       0, 0, 0, 0, 0, 1, 0, 0, 0, 1, 0, 0, 0, 0, 0, 0, 0, 0, 0, 1, 0, 0, 1,\n",
       "       0, 0, 0, 0, 0, 0, 0, 0, 0, 0, 0, 0, 0, 0, 0, 0, 0, 0, 0, 0, 1, 0, 0,\n",
       "       0, 0, 0, 0, 0, 0, 1, 1, 0, 1, 0, 0, 0, 0, 0, 1, 0, 1, 0, 0, 0, 0, 0,\n",
       "       0, 0, 1, 0, 1, 0, 0, 0, 1, 0, 0, 1, 0, 0, 0, 0, 0, 0, 0, 0, 0, 1, 0,\n",
       "       0, 0, 0, 0, 1, 1, 0, 0, 1, 0, 0, 1, 0, 0, 0, 0, 1, 1, 0, 1, 0, 0, 0,\n",
       "       1, 0, 0, 1, 0, 0, 1, 1, 0, 0, 0, 0, 0, 0, 0, 0, 0, 1, 0, 0, 0, 0, 1,\n",
       "       1, 0, 0, 0, 1, 0, 1, 0, 0, 1, 0, 1, 0, 0, 0, 0, 0, 0, 0, 0, 1, 0, 0,\n",
       "       1, 0, 0, 1])"
      ]
     },
     "execution_count": 50,
     "metadata": {},
     "output_type": "execute_result"
    }
   ],
   "source": [
    "test_predictions"
   ]
  },
  {
   "cell_type": "code",
   "execution_count": 26,
   "metadata": {
    "collapsed": true
   },
   "outputs": [],
   "source": [
    "\n",
    "model = KNeighborsClassifier(200)\n",
    "model.fit(data_x,data_y)\n",
    "test_predictions = model.predict(test_x)\n",
    "submission = pd.DataFrame({ 'PassengerId': test['PassengerId'],\n",
    "                            'Survived': test_predictions })\n",
    "submission.to_csv(\"submission_knn_200_SLogL_Title.csv\", index=False)"
   ]
  }
 ],
 "metadata": {
  "kernelspec": {
   "display_name": "cv",
   "language": "python",
   "name": "cv"
  },
  "language_info": {
   "codemirror_mode": {
    "name": "ipython",
    "version": 2
   },
   "file_extension": ".py",
   "mimetype": "text/x-python",
   "name": "python",
   "nbconvert_exporter": "python",
   "pygments_lexer": "ipython2",
   "version": "2.7.12"
  }
 },
 "nbformat": 4,
 "nbformat_minor": 2
}
