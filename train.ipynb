{
 "cells": [
  {
   "cell_type": "code",
   "execution_count": 3,
   "metadata": {
    "collapsed": true
   },
   "outputs": [],
   "source": [
    "import re\n",
    "import xgboost as xgb\n",
    "import pandas as pd\n",
    "import numpy as np\n",
    "import sklearn.model_selection as ms\n",
    "import sklearn.preprocessing as pp\n",
    "from sklearn import metrics\n",
    "import matplotlib.pylab as plt\n"
   ]
  },
  {
   "cell_type": "code",
   "execution_count": 4,
   "metadata": {},
   "outputs": [],
   "source": [
    "train = pd.read_csv('train.csv')\n",
    "test = pd.read_csv('test.csv')\n",
    "total=pd.concat([train,test])\n",
    "PassengerId=total['PassengerId']"
   ]
  },
  {
   "cell_type": "code",
   "execution_count": 5,
   "metadata": {
    "collapsed": true
   },
   "outputs": [],
   "source": [
    "def fill_features(df):\n",
    "    df['Embarked'].fillna('S',inplace=True)\n",
    "    df['Fare'].fillna(df['Fare'].median(),inplace=True)\n",
    "    mu=df['Age'].mean()\n",
    "    delta=df['Age'].std()\n",
    "    rand_list=np.random.randint(mu-delta,mu+delta,size=df['Age'].isnull().sum())\n",
    "    df.loc[df['Age'].isnull(), 'Age']=rand_list\n",
    "    df['Age']=df['Age'].astype(int)\n",
    "    return df\n"
   ]
  },
  {
   "cell_type": "code",
   "execution_count": 6,
   "metadata": {},
   "outputs": [],
   "source": [
    "def add_features(df):\n",
    "    df['FamilySize']=df['SibSp']+df['Parch']+1\n",
    "    df['IsAlone']=1\n",
    "    df.loc[df['FamilySize']>1, 'IsAlone']=0\n",
    "    df['HasCabin']=df['Cabin'].apply(lambda x: 0 if type(x)==float else 1)\n",
    "    return df\n",
    "#total[['Embarked','Survived']].groupby('Embarked', as_index=False).mean()"
   ]
  },
  {
   "cell_type": "code",
   "execution_count": 7,
   "metadata": {
    "collapsed": true
   },
   "outputs": [],
   "source": [
    "def simplify_features(df):\n",
    "    df=simplify_fare(df)\n",
    "    df=simplify_ages(df)\n",
    "    df=simplify_title(df)\n",
    "    return df"
   ]
  },
  {
   "cell_type": "code",
   "execution_count": 8,
   "metadata": {},
   "outputs": [],
   "source": [
    "def simplify_fare(df):\n",
    "    bins=(-1,0,7.896,14.454,31.275,512.4)\n",
    "    tags=['unknown', 'first','second','third','forth']\n",
    "    df['Fare']=pd.cut(df['Fare'], bins, tags)\n",
    "    return df\n",
    "#df['FareCategorical']=pd.qcut(df['Fare'],4)\n",
    "#df[['FareCategorical','Survived']].groupby('FareCategorical', as_index=False).mean()\n",
    "\n",
    "def simplify_ages(df):\n",
    "    bins=(-1,0,5,12,18,25,35,60,120)\n",
    "    tags = ['Unknown', 'Baby', 'Child', 'Teenager', 'Student', 'Young Adult', 'Adult', 'Senior']\n",
    "    df['Age'] = pd.cut(df['Age'],bins , labels=tags) \n",
    "    return df\n",
    "\n",
    "#total['AgeCategorical']=pd.cut(total['Age'],5)\n",
    "#total[['AgeCategorical','Survived']].groupby('AgeCategorical', as_index=False).mean()\n",
    "\n",
    "def get_title(name):\n",
    "    title_search = re.search(' ([A-Za-z]+)\\.', name)\n",
    "    # If the title exists, extract and return it.\n",
    "    if title_search:\n",
    "        return title_search.group(1)\n",
    "    return \"\"\n",
    "\n",
    "def simplify_title(df):\n",
    "    df['Title'] = df['Name'].apply(get_title)\n",
    "    df['Title'] = df['Title'].replace(['Lady', 'Countess','Capt', 'Col','Don', 'Dr', 'Major', 'Rev', 'Sir', 'Jonkheer', 'Dona'], 'Rare')\n",
    "    df['Title'] = df['Title'].replace('Mlle', 'Miss')\n",
    "    df['Title'] = df['Title'].replace('Ms', 'Miss')\n",
    "    df['Title'] = df['Title'].replace('Mme', 'Mrs')\n",
    "    return df\n"
   ]
  },
  {
   "cell_type": "code",
   "execution_count": 9,
   "metadata": {},
   "outputs": [],
   "source": [
    "def drop_features(df):\n",
    "    df.drop('PassengerId',axis=1,inplace=True)\n",
    "    df.drop('Name',axis=1,inplace=True)\n",
    "    df.drop('Cabin',axis=1,inplace=True)\n",
    "    df.drop('SibSp',axis=1,inplace=True)\n",
    "    #total.drop('Parch',axis=1,inplace=True)\n",
    "    df.drop('Ticket',axis=1,inplace=True)\n",
    "    return df\n"
   ]
  },
  {
   "cell_type": "code",
   "execution_count": 10,
   "metadata": {},
   "outputs": [],
   "source": [
    "total=fill_features(total)\n",
    "total=add_features(total)\n",
    "total=simplify_features(total)\n",
    "total=drop_features(total)"
   ]
  },
  {
   "cell_type": "code",
   "execution_count": 11,
   "metadata": {},
   "outputs": [],
   "source": [
    "def encode_features(df):\n",
    "    features = ['Fare', 'Age', 'Embarked', 'Sex', 'Title']\n",
    "    for feature in features:\n",
    "        le=pp.LabelEncoder()\n",
    "        le=le.fit(df[feature])\n",
    "        df[feature]=le.transform(df[feature])\n",
    "    return df\n",
    "total=encode_features(total)"
   ]
  },
  {
   "cell_type": "code",
   "execution_count": 12,
   "metadata": {},
   "outputs": [
    {
     "name": "stdout",
     "output_type": "stream",
     "text": [
      "Index([u'Age', u'Embarked', u'Fare', u'Parch', u'Pclass', u'Sex',\n",
      "       u'FamilySize', u'IsAlone', u'HasCabin', u'Title'],\n",
      "      dtype='object')\n"
     ]
    }
   ],
   "source": [
    "y_train=train['Survived']\n",
    "total.drop('Survived', axis=1, inplace=True)\n",
    "print total.columns\n",
    "#x_all=total.iloc[range(len(train_y))]\n",
    "train_all=total.iloc[range(len(y_train))]"
   ]
  },
  {
   "cell_type": "code",
   "execution_count": 11,
   "metadata": {},
   "outputs": [
    {
     "ename": "NameError",
     "evalue": "name 'x_all' is not defined",
     "output_type": "error",
     "traceback": [
      "\u001b[0;31m---------------------------------------------------------------------------\u001b[0m",
      "\u001b[0;31mNameError\u001b[0m                                 Traceback (most recent call last)",
      "\u001b[0;32m<ipython-input-11-6e8ba0cda167>\u001b[0m in \u001b[0;36m<module>\u001b[0;34m()\u001b[0m\n\u001b[1;32m      1\u001b[0m \u001b[0;34m\u001b[0m\u001b[0m\n\u001b[1;32m      2\u001b[0m \u001b[0mnum_test\u001b[0m\u001b[0;34m=\u001b[0m\u001b[0;36m0.20\u001b[0m\u001b[0;34m\u001b[0m\u001b[0m\n\u001b[0;32m----> 3\u001b[0;31m \u001b[0mtrain_x\u001b[0m\u001b[0;34m,\u001b[0m\u001b[0mtest_x\u001b[0m\u001b[0;34m,\u001b[0m\u001b[0mtrain_y\u001b[0m\u001b[0;34m,\u001b[0m\u001b[0mtest_y\u001b[0m \u001b[0;34m=\u001b[0m \u001b[0mms\u001b[0m\u001b[0;34m.\u001b[0m\u001b[0mtrain_test_split\u001b[0m\u001b[0;34m(\u001b[0m\u001b[0mx_all\u001b[0m\u001b[0;34m,\u001b[0m\u001b[0my_all\u001b[0m\u001b[0;34m,\u001b[0m \u001b[0mtest_size\u001b[0m\u001b[0;34m=\u001b[0m\u001b[0mnum_test\u001b[0m\u001b[0;34m,\u001b[0m \u001b[0mrandom_state\u001b[0m\u001b[0;34m=\u001b[0m\u001b[0;36m23\u001b[0m\u001b[0;34m)\u001b[0m\u001b[0;34m\u001b[0m\u001b[0m\n\u001b[0m",
      "\u001b[0;31mNameError\u001b[0m: name 'x_all' is not defined"
     ]
    }
   ],
   "source": [
    "\n",
    "num_test=0.20\n",
    "train_x,test_x,train_y,test_y = ms.train_test_split(x_all,y_all, test_size=num_test, random_state=23)"
   ]
  },
  {
   "cell_type": "code",
   "execution_count": 12,
   "metadata": {
    "collapsed": true
   },
   "outputs": [],
   "source": [
    "#train_y = train['Survived']\n",
    "\n",
    "#total.drop('Survived', axis=1, inplace=True)\n",
    "\n",
    "\n",
    "#total_array = total.as_matrix()\n",
    "\n",
    "#train_x = total_array[:len(train_y),:]\n",
    "#test_x = total_array[len(train_y):,:]\n",
    "\n",
    "\n",
    "\n",
    "\n",
    "#predictions = gbm.predict(test_x)\n",
    "#submission = pd.DataFrame({ 'PassengerId': test['PassengerId'],\n",
    "#                            'Survived': predictions })\n",
    "#submission.to_csv(\"submission.csv\", index=False)\n"
   ]
  },
  {
   "cell_type": "code",
   "execution_count": 33,
   "metadata": {},
   "outputs": [
    {
     "name": "stdout",
     "output_type": "stream",
     "text": [
      "[0]\ttrain-auc:0.86563\ttest-auc:0.852301\n",
      "Multiple eval metrics have been passed: 'test-auc' will be used for early stopping.\n",
      "\n",
      "Will train until test-auc hasn't improved in 50 rounds.\n",
      "[1]\ttrain-auc:0.873263\ttest-auc:0.856922\n",
      "[2]\ttrain-auc:0.875543\ttest-auc:0.861053\n",
      "[3]\ttrain-auc:0.881224\ttest-auc:0.860448\n",
      "[4]\ttrain-auc:0.882865\ttest-auc:0.861186\n",
      "[5]\ttrain-auc:0.882898\ttest-auc:0.86124\n",
      "[6]\ttrain-auc:0.883662\ttest-auc:0.862763\n",
      "[7]\ttrain-auc:0.886148\ttest-auc:0.86303\n",
      "[8]\ttrain-auc:0.88691\ttest-auc:0.864701\n",
      "[9]\ttrain-auc:0.88779\ttest-auc:0.865276\n",
      "[10]\ttrain-auc:0.888243\ttest-auc:0.867063\n",
      "[11]\ttrain-auc:0.88847\ttest-auc:0.86758\n",
      "[12]\ttrain-auc:0.891294\ttest-auc:0.869548\n",
      "[13]\ttrain-auc:0.892588\ttest-auc:0.87082\n",
      "[14]\ttrain-auc:0.893355\ttest-auc:0.869677\n",
      "[15]\ttrain-auc:0.894814\ttest-auc:0.872569\n",
      "[16]\ttrain-auc:0.895967\ttest-auc:0.872801\n",
      "[17]\ttrain-auc:0.896216\ttest-auc:0.873925\n",
      "[18]\ttrain-auc:0.897073\ttest-auc:0.874764\n",
      "[19]\ttrain-auc:0.898071\ttest-auc:0.875116\n",
      "[20]\ttrain-auc:0.898394\ttest-auc:0.875655\n",
      "[21]\ttrain-auc:0.899565\ttest-auc:0.876889\n",
      "[22]\ttrain-auc:0.899712\ttest-auc:0.877198\n",
      "[23]\ttrain-auc:0.900119\ttest-auc:0.878409\n",
      "[24]\ttrain-auc:0.901045\ttest-auc:0.878546\n",
      "[25]\ttrain-auc:0.901722\ttest-auc:0.878442\n",
      "[26]\ttrain-auc:0.902341\ttest-auc:0.877796\n",
      "[27]\ttrain-auc:0.902809\ttest-auc:0.87853\n",
      "[28]\ttrain-auc:0.90351\ttest-auc:0.878727\n",
      "[29]\ttrain-auc:0.903909\ttest-auc:0.878872\n",
      "[30]\ttrain-auc:0.904025\ttest-auc:0.878673\n",
      "[31]\ttrain-auc:0.904571\ttest-auc:0.877114\n",
      "[32]\ttrain-auc:0.905326\ttest-auc:0.878627\n",
      "[33]\ttrain-auc:0.905465\ttest-auc:0.878352\n",
      "[34]\ttrain-auc:0.905553\ttest-auc:0.877187\n",
      "[35]\ttrain-auc:0.90583\ttest-auc:0.876997\n",
      "[36]\ttrain-auc:0.906126\ttest-auc:0.876957\n",
      "[37]\ttrain-auc:0.906976\ttest-auc:0.877343\n",
      "[38]\ttrain-auc:0.907152\ttest-auc:0.877869\n",
      "[39]\ttrain-auc:0.907493\ttest-auc:0.877864\n",
      "[40]\ttrain-auc:0.907766\ttest-auc:0.878223\n",
      "[41]\ttrain-auc:0.908099\ttest-auc:0.878329\n",
      "[42]\ttrain-auc:0.908174\ttest-auc:0.877928\n",
      "[43]\ttrain-auc:0.908719\ttest-auc:0.878497\n",
      "[44]\ttrain-auc:0.908819\ttest-auc:0.878344\n",
      "[45]\ttrain-auc:0.90937\ttest-auc:0.877681\n",
      "[46]\ttrain-auc:0.909654\ttest-auc:0.878925\n",
      "[47]\ttrain-auc:0.909787\ttest-auc:0.878641\n",
      "[48]\ttrain-auc:0.910183\ttest-auc:0.878769\n",
      "[49]\ttrain-auc:0.910459\ttest-auc:0.878856\n",
      "[50]\ttrain-auc:0.911398\ttest-auc:0.878225\n",
      "[51]\ttrain-auc:0.911719\ttest-auc:0.877675\n",
      "[52]\ttrain-auc:0.911889\ttest-auc:0.878014\n",
      "[53]\ttrain-auc:0.912243\ttest-auc:0.877511\n",
      "[54]\ttrain-auc:0.912271\ttest-auc:0.877378\n",
      "[55]\ttrain-auc:0.912307\ttest-auc:0.878065\n",
      "[56]\ttrain-auc:0.912709\ttest-auc:0.877424\n",
      "[57]\ttrain-auc:0.913105\ttest-auc:0.876626\n",
      "[58]\ttrain-auc:0.913337\ttest-auc:0.877421\n",
      "[59]\ttrain-auc:0.913536\ttest-auc:0.877562\n",
      "[60]\ttrain-auc:0.913805\ttest-auc:0.87727\n",
      "[61]\ttrain-auc:0.913964\ttest-auc:0.877022\n",
      "[62]\ttrain-auc:0.914319\ttest-auc:0.876669\n",
      "[63]\ttrain-auc:0.914541\ttest-auc:0.877428\n",
      "[64]\ttrain-auc:0.914737\ttest-auc:0.877693\n",
      "[65]\ttrain-auc:0.914803\ttest-auc:0.877627\n",
      "[66]\ttrain-auc:0.914938\ttest-auc:0.877548\n",
      "[67]\ttrain-auc:0.915065\ttest-auc:0.877408\n",
      "[68]\ttrain-auc:0.915089\ttest-auc:0.877741\n",
      "[69]\ttrain-auc:0.915784\ttest-auc:0.8777\n",
      "[70]\ttrain-auc:0.915956\ttest-auc:0.8781\n",
      "[71]\ttrain-auc:0.916104\ttest-auc:0.877489\n",
      "[72]\ttrain-auc:0.916389\ttest-auc:0.87761\n",
      "[73]\ttrain-auc:0.916695\ttest-auc:0.877273\n",
      "[74]\ttrain-auc:0.916769\ttest-auc:0.877065\n",
      "[75]\ttrain-auc:0.917054\ttest-auc:0.876719\n",
      "[76]\ttrain-auc:0.917291\ttest-auc:0.876853\n",
      "[77]\ttrain-auc:0.917374\ttest-auc:0.876512\n",
      "[78]\ttrain-auc:0.917574\ttest-auc:0.877095\n",
      "[79]\ttrain-auc:0.917707\ttest-auc:0.877025\n",
      "[80]\ttrain-auc:0.917918\ttest-auc:0.876721\n",
      "[81]\ttrain-auc:0.9179\ttest-auc:0.876344\n",
      "[82]\ttrain-auc:0.918281\ttest-auc:0.876984\n",
      "[83]\ttrain-auc:0.918611\ttest-auc:0.876748\n",
      "[84]\ttrain-auc:0.918939\ttest-auc:0.87648\n",
      "[85]\ttrain-auc:0.919047\ttest-auc:0.876711\n",
      "[86]\ttrain-auc:0.919206\ttest-auc:0.876527\n",
      "[87]\ttrain-auc:0.919238\ttest-auc:0.876504\n",
      "[88]\ttrain-auc:0.919376\ttest-auc:0.876178\n",
      "[89]\ttrain-auc:0.919573\ttest-auc:0.876589\n",
      "[90]\ttrain-auc:0.919713\ttest-auc:0.876743\n",
      "[91]\ttrain-auc:0.919718\ttest-auc:0.876912\n",
      "[92]\ttrain-auc:0.919949\ttest-auc:0.877396\n",
      "[93]\ttrain-auc:0.91991\ttest-auc:0.877412\n",
      "[94]\ttrain-auc:0.920024\ttest-auc:0.877381\n",
      "[95]\ttrain-auc:0.920048\ttest-auc:0.877525\n",
      "[96]\ttrain-auc:0.920046\ttest-auc:0.877497\n",
      "Stopping. Best iteration:\n",
      "[46]\ttrain-auc:0.909654+0.00489892\ttest-auc:0.878925+0.0242461\n",
      "\n",
      "\n",
      "Model Report\n",
      "Accuracy : 0.8608\n",
      "AUC Score (Train): 0.910976\n"
     ]
    },
    {
     "data": {
      "image/png": "[encoded data removed]",
      "text/plain": [
       "<matplotlib.figure.Figure at 0x7fcb8763ef90>"
      ]
     },
     "metadata": {},
     "output_type": "display_data"
    }
   ],
   "source": [
    "#param_grid = {'n_estimators'=\n",
    "#              'max_depth':range(3,6,1), \n",
    "#              'min_child_weight':range(1,6,1),\n",
    "#              'gamma':[i/10.0 for i in range(2,8)],\n",
    "#              'subsample':[i/100.0 for i in range(60,100,5)],\n",
    "#              'colsample_bytree':[i/100.0 for i in range(60,100,5)]}\n",
    "\n",
    "model = xgb.XGBClassifier(learning_rate =0.1, \n",
    "                      n_estimators=1000, \n",
    "                      max_depth=8,\n",
    "                      min_child_weight=4, \n",
    "                      gamma=0.8, \n",
    "                      subsample=0.8, \n",
    "                      colsample_bytree=0.8,\n",
    "                      objective= 'binary:logistic', \n",
    "                      n_jobs=4, \n",
    "                      scale_pos_weight=1,\n",
    "                      random_state = 29)\n",
    "\n",
    "xgbTrain = xgb.DMatrix(train_all.values, label=y_train.values)\n",
    "xgbParams = model.get_xgb_params()\n",
    "cv_result=xgb.cv(xgbParams,\n",
    "                 xgbTrain,\n",
    "                 num_boost_round=model.get_params()['n_estimators'],\n",
    "                 nfold= 5,\n",
    "                 metrics='auc',\n",
    "                 early_stopping_rounds=50,\n",
    "                 callbacks=[xgb.callback.print_evaluation(show_stdv=False), xgb.callback.early_stop(50)],\n",
    "                 )\n",
    "\n",
    "model.set_params(n_estimators=cv_result.shape[0])\n",
    "model.fit(train_all,y_train, eval_metric='auc')\n",
    "\n",
    "predictions = model.predict(train_all)\n",
    "pred_prob = model.predict_proba(train_all)[:,1]\n",
    "\n",
    "print \"\\nModel Report\"\n",
    "print \"Accuracy : %.4g\" % metrics.accuracy_score(y_train.values, predictions)\n",
    "print \"AUC Score (Train): %f\" % metrics.roc_auc_score(y_train, pred_prob)\n",
    "#grid = ms.GridSearchCV(estimator=model, param_grid=param_grid, scoring='roc_auc', n_jobs=-1, verbose=1)\n",
    "#grid.fit(train_x,train_y)\n",
    "\n",
    "xgb.plot_importance(model)\n",
    "plt.show()"
   ]
  },
  {
   "cell_type": "code",
   "execution_count": null,
   "metadata": {
    "collapsed": true
   },
   "outputs": [],
   "source": [
    "#print (grid.best_score_)\n",
    "#print (grid.best_params_)"
   ]
  },
  {
   "cell_type": "code",
   "execution_count": null,
   "metadata": {},
   "outputs": [],
   "source": [
    "param_test1 = {\n",
    " 'max_depth':range(3,10,2),\n",
    " 'min_child_weight':range(1,6,2)\n",
    "}\n",
    "gsearch1 = ms.GridSearchCV(estimator = xgb.XGBClassifier( learning_rate =0.1, n_estimators=51, max_depth=5,\n",
    " min_child_weight=3, gamma=0.2, subsample=0.8, colsample_bytree=0.8,\n",
    " objective= 'binary:logistic', n_jobs=4, scale_pos_weight=1), \n",
    " param_grid = param_test1, scoring='roc_auc',n_jobs=4,iid=False, cv=5)\n",
    "gsearch1.fit(train_all, y_train)\n",
    "gsearch1.grid_scores_, gsearch1.best_params_, gsearch1.best_score_\n"
   ]
  },
  {
   "cell_type": "code",
   "execution_count": 12,
   "metadata": {},
   "outputs": [
    {
     "data": {
      "text/html": [
       "<div>\n",
       "<style>\n",
       "    .dataframe thead tr:only-child th {\n",
       "        text-align: right;\n",
       "    }\n",
       "\n",
       "    .dataframe thead th {\n",
       "        text-align: left;\n",
       "    }\n",
       "\n",
       "    .dataframe tbody tr th {\n",
       "        vertical-align: top;\n",
       "    }\n",
       "</style>\n",
       "<table border=\"1\" class=\"dataframe\">\n",
       "  <thead>\n",
       "    <tr style=\"text-align: right;\">\n",
       "      <th></th>\n",
       "      <th>Age</th>\n",
       "      <th>Embarked</th>\n",
       "      <th>Fare</th>\n",
       "      <th>Parch</th>\n",
       "      <th>Pclass</th>\n",
       "      <th>Sex</th>\n",
       "      <th>FamilySize</th>\n",
       "      <th>IsAlone</th>\n",
       "      <th>HasCabin</th>\n",
       "      <th>Title</th>\n",
       "    </tr>\n",
       "  </thead>\n",
       "  <tbody>\n",
       "    <tr>\n",
       "      <th>0</th>\n",
       "      <td>4</td>\n",
       "      <td>2</td>\n",
       "      <td>1</td>\n",
       "      <td>0</td>\n",
       "      <td>3</td>\n",
       "      <td>1</td>\n",
       "      <td>2</td>\n",
       "      <td>0</td>\n",
       "      <td>0</td>\n",
       "      <td>2</td>\n",
       "    </tr>\n",
       "    <tr>\n",
       "      <th>1</th>\n",
       "      <td>0</td>\n",
       "      <td>0</td>\n",
       "      <td>4</td>\n",
       "      <td>0</td>\n",
       "      <td>1</td>\n",
       "      <td>0</td>\n",
       "      <td>2</td>\n",
       "      <td>0</td>\n",
       "      <td>1</td>\n",
       "      <td>3</td>\n",
       "    </tr>\n",
       "    <tr>\n",
       "      <th>2</th>\n",
       "      <td>7</td>\n",
       "      <td>2</td>\n",
       "      <td>2</td>\n",
       "      <td>0</td>\n",
       "      <td>3</td>\n",
       "      <td>0</td>\n",
       "      <td>1</td>\n",
       "      <td>1</td>\n",
       "      <td>0</td>\n",
       "      <td>1</td>\n",
       "    </tr>\n",
       "    <tr>\n",
       "      <th>3</th>\n",
       "      <td>7</td>\n",
       "      <td>2</td>\n",
       "      <td>4</td>\n",
       "      <td>0</td>\n",
       "      <td>1</td>\n",
       "      <td>0</td>\n",
       "      <td>2</td>\n",
       "      <td>0</td>\n",
       "      <td>1</td>\n",
       "      <td>3</td>\n",
       "    </tr>\n",
       "    <tr>\n",
       "      <th>4</th>\n",
       "      <td>7</td>\n",
       "      <td>2</td>\n",
       "      <td>2</td>\n",
       "      <td>0</td>\n",
       "      <td>3</td>\n",
       "      <td>1</td>\n",
       "      <td>1</td>\n",
       "      <td>1</td>\n",
       "      <td>0</td>\n",
       "      <td>2</td>\n",
       "    </tr>\n",
       "  </tbody>\n",
       "</table>\n",
       "</div>"
      ],
      "text/plain": [
       "   Age  Embarked  Fare  Parch  Pclass  Sex  FamilySize  IsAlone  HasCabin  \\\n",
       "0    4         2     1      0       3    1           2        0         0   \n",
       "1    0         0     4      0       1    0           2        0         1   \n",
       "2    7         2     2      0       3    0           1        1         0   \n",
       "3    7         2     4      0       1    0           2        0         1   \n",
       "4    7         2     2      0       3    1           1        1         0   \n",
       "\n",
       "   Title  \n",
       "0      2  \n",
       "1      3  \n",
       "2      1  \n",
       "3      3  \n",
       "4      2  "
      ]
     },
     "execution_count": 12,
     "metadata": {},
     "output_type": "execute_result"
    }
   ],
   "source": [
    "train_all.head(5)"
   ]
  }
 ],
 "metadata": {
  "kernelspec": {
   "display_name": "cv",
   "language": "python",
   "name": "cv"
  },
  "language_info": {
   "codemirror_mode": {
    "name": "ipython",
    "version": 2
   },
   "file_extension": ".py",
   "mimetype": "text/x-python",
   "name": "python",
   "nbconvert_exporter": "python",
   "pygments_lexer": "ipython2",
   "version": "2.7.12"
  }
 },
 "nbformat": 4,
 "nbformat_minor": 2
}
