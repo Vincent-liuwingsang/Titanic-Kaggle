{
 "cells": [
  {
   "cell_type": "code",
   "execution_count": 15,
   "metadata": {},
   "outputs": [],
   "source": [
    "import re\n",
    "import seaborn as sns\n",
    "import xgboost as xgb\n",
    "import pandas as pd\n",
    "import numpy as np\n",
    "import sklearn.model_selection as ms\n",
    "import sklearn.preprocessing as pp\n",
    "import sklearn.feature_selection as fs\n",
    "from sklearn.cross_validation import StratifiedKFold\n",
    "from sklearn import metrics\n",
    "from sklearn.grid_search import GridSearchCV\n",
    "\n",
    "import matplotlib.pylab as plt\n",
    "from features1 import add_title,fill_age,fill_fare,fill_embarked,fill_cabin,fill_ticket,add_family\n"
   ]
  },
  {
   "cell_type": "code",
   "execution_count": 5,
   "metadata": {
    "collapsed": true
   },
   "outputs": [],
   "source": [
    "train = pd.read_csv('train.csv')\n",
    "test = pd.read_csv('test.csv')\n",
    "total=pd.concat([train,test])\n",
    "PassengerId=total['PassengerId']"
   ]
  },
  {
   "cell_type": "code",
   "execution_count": 6,
   "metadata": {
    "scrolled": true
   },
   "outputs": [],
   "source": [
    "# Add title, drop name, add family\n",
    "total=add_title(total)\n",
    "total.drop('Name',axis=1,inplace=True)# Fill\n",
    "total=add_family(total)"
   ]
  },
  {
   "cell_type": "code",
   "execution_count": 7,
   "metadata": {},
   "outputs": [
    {
     "name": "stderr",
     "output_type": "stream",
     "text": [
      "/home/wing/.virtualenvs/cv/local/lib/python2.7/site-packages/pandas/core/generic.py:3110: SettingWithCopyWarning: \n",
      "A value is trying to be set on a copy of a slice from a DataFrame.\n",
      "Try using .loc[row_indexer,col_indexer] = value instead\n",
      "\n",
      "See the caveats in the documentation: http://pandas.pydata.org/pandas-docs/stable/indexing.html#indexing-view-versus-copy\n",
      "  self[name] = value\n",
      "/home/wing/.virtualenvs/cv/local/lib/python2.7/site-packages/pandas/core/generic.py:3660: SettingWithCopyWarning: \n",
      "A value is trying to be set on a copy of a slice from a DataFrame\n",
      "\n",
      "See the caveats in the documentation: http://pandas.pydata.org/pandas-docs/stable/indexing.html#indexing-view-versus-copy\n",
      "  self._update_inplace(new_data)\n"
     ]
    }
   ],
   "source": [
    "# Fill age, fare, embarked\n",
    "total=fill_age(total)\n",
    "total=fill_fare(total)\n",
    "total=fill_embarked(total)\n",
    "total=fill_cabin(total)\n",
    "total=fill_ticket(total)"
   ]
  },
  {
   "cell_type": "code",
   "execution_count": 8,
   "metadata": {
    "scrolled": true
   },
   "outputs": [
    {
     "name": "stdout",
     "output_type": "stream",
     "text": [
      "<class 'pandas.core.frame.DataFrame'>\n",
      "Int64Index: 1309 entries, 0 to 417\n",
      "Data columns (total 16 columns):\n",
      "Age            1309 non-null float64\n",
      "Cabin          1309 non-null object\n",
      "Embarked       1309 non-null object\n",
      "Fare           1309 non-null float64\n",
      "Parch          1309 non-null int64\n",
      "PassengerId    1309 non-null int64\n",
      "Pclass         1309 non-null int64\n",
      "Sex            1309 non-null object\n",
      "SibSp          1309 non-null int64\n",
      "Survived       891 non-null float64\n",
      "Ticket         1309 non-null object\n",
      "Title          1309 non-null object\n",
      "FamilySize     1309 non-null int64\n",
      "Singleton      1309 non-null int64\n",
      "SmallFamily    1309 non-null int64\n",
      "LargeFamily    1309 non-null int64\n",
      "dtypes: float64(3), int64(8), object(5)\n",
      "memory usage: 173.9+ KB\n"
     ]
    }
   ],
   "source": [
    "total.info()"
   ]
  },
  {
   "cell_type": "code",
   "execution_count": 9,
   "metadata": {},
   "outputs": [],
   "source": [
    "# Turn binary (titles) \n",
    "total = pd.concat([total,pd.get_dummies(total['Title'],prefix='Title')],axis=1)\n",
    "total = pd.concat([total,pd.get_dummies(total['Embarked'],prefix='Embarked')],axis=1)\n",
    "total = pd.concat([total,pd.get_dummies(total['Cabin'], prefix='Cabin')], axis=1)\n",
    "total = pd.concat([total,pd.get_dummies(total['Pclass'], prefix=\"Pclass\")],axis=1) \n",
    "total['Sex'] = total['Sex'].map({'male':1,'female':0})\n",
    "total = pd.concat([total, pd.get_dummies(total['Ticket'], prefix='Ticket')], axis=1)\n"
   ]
  },
  {
   "cell_type": "code",
   "execution_count": 10,
   "metadata": {},
   "outputs": [],
   "source": [
    "# Drop\n",
    "total.drop('Title',axis=1,inplace=True)\n",
    "total.drop('Embarked',axis=1,inplace=True)\n",
    "total.drop('Cabin', axis=1, inplace=True)\n",
    "total.drop('Pclass',axis=1,inplace=True)\n",
    "total.drop('Ticket', inplace=True, axis=1)\n",
    "total.drop('PassengerId', inplace=True, axis=1)\n",
    "total.drop('Survived', axis=1, inplace=True)"
   ]
  },
  {
   "cell_type": "code",
   "execution_count": null,
   "metadata": {},
   "outputs": [],
   "source": []
  },
  {
   "cell_type": "code",
   "execution_count": 11,
   "metadata": {
    "scrolled": true
   },
   "outputs": [],
   "source": [
    "data_y=train['Survived']\n",
    "data_x=total.iloc[range(len(data_y))]\n",
    "test_x=total.iloc[len(data_y):]\n",
    "\n"
   ]
  },
  {
   "cell_type": "code",
   "execution_count": 12,
   "metadata": {
    "scrolled": true
   },
   "outputs": [
    {
     "name": "stdout",
     "output_type": "stream",
     "text": [
      "[0]\ttrain-auc:0.884857\ttest-auc:0.86643\n",
      "Multiple eval metrics have been passed: 'test-auc' will be used for early stopping.\n",
      "\n",
      "Will train until test-auc hasn't improved in 50 rounds.\n",
      "[1]\ttrain-auc:0.896297\ttest-auc:0.876603\n",
      "[2]\ttrain-auc:0.89986\ttest-auc:0.877299\n",
      "[3]\ttrain-auc:0.903302\ttest-auc:0.878493\n",
      "[4]\ttrain-auc:0.905357\ttest-auc:0.881776\n",
      "[5]\ttrain-auc:0.9093\ttest-auc:0.88245\n",
      "[6]\ttrain-auc:0.911808\ttest-auc:0.884213\n",
      "[7]\ttrain-auc:0.912609\ttest-auc:0.884223\n",
      "[8]\ttrain-auc:0.915291\ttest-auc:0.883245\n",
      "[9]\ttrain-auc:0.920545\ttest-auc:0.884333\n",
      "[10]\ttrain-auc:0.921575\ttest-auc:0.884188\n",
      "[11]\ttrain-auc:0.92311\ttest-auc:0.880342\n",
      "[12]\ttrain-auc:0.925052\ttest-auc:0.879178\n",
      "[13]\ttrain-auc:0.927337\ttest-auc:0.881221\n",
      "[14]\ttrain-auc:0.928314\ttest-auc:0.880958\n",
      "[15]\ttrain-auc:0.929542\ttest-auc:0.880189\n",
      "[16]\ttrain-auc:0.93162\ttest-auc:0.881898\n",
      "[17]\ttrain-auc:0.932208\ttest-auc:0.881768\n",
      "[18]\ttrain-auc:0.933249\ttest-auc:0.881326\n",
      "[19]\ttrain-auc:0.934957\ttest-auc:0.882469\n",
      "[20]\ttrain-auc:0.935333\ttest-auc:0.883512\n",
      "[21]\ttrain-auc:0.936561\ttest-auc:0.883537\n",
      "[22]\ttrain-auc:0.937669\ttest-auc:0.884308\n",
      "[23]\ttrain-auc:0.938924\ttest-auc:0.885059\n",
      "[24]\ttrain-auc:0.940294\ttest-auc:0.884262\n",
      "[25]\ttrain-auc:0.940803\ttest-auc:0.88405\n",
      "[26]\ttrain-auc:0.942093\ttest-auc:0.883654\n",
      "[27]\ttrain-auc:0.942969\ttest-auc:0.883419\n",
      "[28]\ttrain-auc:0.944025\ttest-auc:0.883398\n",
      "[29]\ttrain-auc:0.944845\ttest-auc:0.882511\n",
      "[30]\ttrain-auc:0.945634\ttest-auc:0.882993\n",
      "[31]\ttrain-auc:0.946478\ttest-auc:0.882858\n",
      "[32]\ttrain-auc:0.946908\ttest-auc:0.882109\n",
      "[33]\ttrain-auc:0.947892\ttest-auc:0.881433\n",
      "[34]\ttrain-auc:0.948751\ttest-auc:0.881329\n",
      "[35]\ttrain-auc:0.949234\ttest-auc:0.882076\n",
      "[36]\ttrain-auc:0.950502\ttest-auc:0.881998\n",
      "[37]\ttrain-auc:0.950826\ttest-auc:0.883005\n",
      "[38]\ttrain-auc:0.951598\ttest-auc:0.883352\n",
      "[39]\ttrain-auc:0.952119\ttest-auc:0.884045\n",
      "[40]\ttrain-auc:0.952612\ttest-auc:0.883913\n",
      "[41]\ttrain-auc:0.953389\ttest-auc:0.884933\n",
      "[42]\ttrain-auc:0.953979\ttest-auc:0.885703\n",
      "[43]\ttrain-auc:0.954418\ttest-auc:0.884995\n",
      "[44]\ttrain-auc:0.955206\ttest-auc:0.884713\n",
      "[45]\ttrain-auc:0.95544\ttest-auc:0.885427\n",
      "[46]\ttrain-auc:0.95578\ttest-auc:0.88527\n",
      "[47]\ttrain-auc:0.956338\ttest-auc:0.884895\n",
      "[48]\ttrain-auc:0.956703\ttest-auc:0.885326\n",
      "[49]\ttrain-auc:0.957212\ttest-auc:0.88543\n",
      "[50]\ttrain-auc:0.957982\ttest-auc:0.884515\n",
      "[51]\ttrain-auc:0.958568\ttest-auc:0.883829\n",
      "[52]\ttrain-auc:0.959132\ttest-auc:0.883771\n",
      "[53]\ttrain-auc:0.959834\ttest-auc:0.883529\n",
      "[54]\ttrain-auc:0.960615\ttest-auc:0.882733\n",
      "[55]\ttrain-auc:0.961145\ttest-auc:0.883475\n",
      "[56]\ttrain-auc:0.961701\ttest-auc:0.883904\n",
      "[57]\ttrain-auc:0.962341\ttest-auc:0.883368\n",
      "[58]\ttrain-auc:0.962837\ttest-auc:0.883554\n",
      "[59]\ttrain-auc:0.963468\ttest-auc:0.882788\n",
      "[60]\ttrain-auc:0.963731\ttest-auc:0.88225\n",
      "[61]\ttrain-auc:0.964026\ttest-auc:0.882334\n",
      "[62]\ttrain-auc:0.96463\ttest-auc:0.882256\n",
      "[63]\ttrain-auc:0.965286\ttest-auc:0.881811\n",
      "[64]\ttrain-auc:0.965658\ttest-auc:0.882105\n",
      "[65]\ttrain-auc:0.966149\ttest-auc:0.882146\n",
      "[66]\ttrain-auc:0.966573\ttest-auc:0.882304\n",
      "[67]\ttrain-auc:0.967093\ttest-auc:0.882573\n",
      "[68]\ttrain-auc:0.967447\ttest-auc:0.882335\n",
      "[69]\ttrain-auc:0.967803\ttest-auc:0.881854\n",
      "[70]\ttrain-auc:0.968108\ttest-auc:0.882096\n",
      "[71]\ttrain-auc:0.968654\ttest-auc:0.882835\n",
      "[72]\ttrain-auc:0.968961\ttest-auc:0.883151\n",
      "[73]\ttrain-auc:0.969351\ttest-auc:0.883437\n",
      "[74]\ttrain-auc:0.969715\ttest-auc:0.883785\n",
      "[75]\ttrain-auc:0.970326\ttest-auc:0.882855\n",
      "[76]\ttrain-auc:0.97068\ttest-auc:0.883069\n",
      "[77]\ttrain-auc:0.971066\ttest-auc:0.882665\n",
      "[78]\ttrain-auc:0.971422\ttest-auc:0.882265\n",
      "[79]\ttrain-auc:0.971639\ttest-auc:0.88258\n",
      "[80]\ttrain-auc:0.971981\ttest-auc:0.883114\n",
      "[81]\ttrain-auc:0.972115\ttest-auc:0.883037\n",
      "[82]\ttrain-auc:0.972327\ttest-auc:0.883566\n",
      "[83]\ttrain-auc:0.972805\ttest-auc:0.883301\n",
      "[84]\ttrain-auc:0.973018\ttest-auc:0.882848\n",
      "[85]\ttrain-auc:0.973264\ttest-auc:0.882743\n",
      "[86]\ttrain-auc:0.97359\ttest-auc:0.883168\n",
      "[87]\ttrain-auc:0.973867\ttest-auc:0.882643\n",
      "[88]\ttrain-auc:0.974179\ttest-auc:0.882938\n",
      "[89]\ttrain-auc:0.974379\ttest-auc:0.882675\n",
      "[90]\ttrain-auc:0.974642\ttest-auc:0.882192\n",
      "[91]\ttrain-auc:0.974885\ttest-auc:0.882406\n",
      "[92]\ttrain-auc:0.974953\ttest-auc:0.882455\n",
      "Stopping. Best iteration:\n",
      "[42]\ttrain-auc:0.953979+0.00559955\ttest-auc:0.885703+0.0270502\n",
      "\n",
      "\n",
      "Model Report\n",
      "Accuracy : 0.8923\n",
      "AUC Score (Train): 0.948506\n"
     ]
    },
    {
     "data": {
      "image/png": "[encoded data removed]",
      "text/plain": [
       "<matplotlib.figure.Figure at 0x7f985c7feed0>"
      ]
     },
     "metadata": {},
     "output_type": "display_data"
    }
   ],
   "source": [
    "#param_grid = {'n_estimators'=\n",
    "#              'max_depth':range(3,6,1), \n",
    "#              'min_child_weight':range(1,6,1),\n",
    "#              'gamma':[i/10.0 for i in range(2,8)],\n",
    "#              'subsample':[i/100.0 for i in range(60,100,5)],\n",
    "#              'colsample_bytree':[i/100.0 for i in range(60,100,5)]}\n",
    "\n",
    "model = xgb.XGBClassifier(learning_rate =0.1, \n",
    "                      n_estimators=1000, \n",
    "                      max_depth=5,\n",
    "                      min_child_weight=1, \n",
    "                      gamma=0.1, \n",
    "                      subsample=0.8, \n",
    "                      colsample_bytree=0.8,\n",
    "                      reg_alpha=0,\n",
    "                      objective= 'binary:logistic', \n",
    "                      n_jobs=4, \n",
    "                      scale_pos_weight=1,\n",
    "                      random_state = 1)\n",
    "\n",
    "xgbTrain = xgb.DMatrix(data_x, label=data_y)\n",
    "xgbParams = model.get_xgb_params()\n",
    "cv_result=xgb.cv(xgbParams,\n",
    "                 xgbTrain,\n",
    "                 stratified=True,\n",
    "                 num_boost_round=model.get_params()['n_estimators'],\n",
    "                 nfold= 5,\n",
    "                 metrics='auc',\n",
    "                 early_stopping_rounds=50,\n",
    "                 callbacks=[xgb.callback.print_evaluation(show_stdv=False), xgb.callback.early_stop(50)],\n",
    "                 seed=15\n",
    "                 )\n",
    "\n",
    "model.set_params(n_estimators=cv_result.shape[0])\n",
    "model.fit(data_x,data_y, eval_metric='auc')\n",
    "\n",
    "predictions = model.predict(data_x)\n",
    "pred_prob = model.predict_proba(data_x)[:,1]\n",
    "\n",
    "\n",
    "print \"\\nModel Report\"\n",
    "print \"Accuracy : %.4g\" % metrics.accuracy_score(data_y, predictions)\n",
    "print \"AUC Score (Train): %f\" % metrics.roc_auc_score(data_y, pred_prob)\n",
    "#grid = ms.GridSearchCV(estimator=model, param_grid=param_grid, scoring='roc_auc', n_jobs=-1, verbose=1)\n",
    "#grid.fit(train_x,train_y)\n",
    "\n",
    "xgb.plot_importance(model)\n",
    "plt.show()\n"
   ]
  },
  {
   "cell_type": "code",
   "execution_count": 14,
   "metadata": {
    "scrolled": true
   },
   "outputs": [
    {
     "data": {
      "text/plain": [
       "(418, 15)"
      ]
     },
     "execution_count": 14,
     "metadata": {},
     "output_type": "execute_result"
    }
   ],
   "source": [
    "model1 = fs.SelectFromModel(model, prefit=True)\n",
    "data_x_reduced = model1.transform(data_x)\n",
    "data_x_reduced.shape\n",
    "test_x_reduced = model1.transform(test_x)\n",
    "test_x_reduced.shape"
   ]
  },
  {
   "cell_type": "code",
   "execution_count": null,
   "metadata": {},
   "outputs": [],
   "source": [
    "param_test1 = {\n",
    " 'max_depth':range(3,10,2),\n",
    " 'min_child_weight':range(1,6,2)\n",
    "}\n",
    "\n",
    "cv_folds = StratifiedKFold(data_y, n_folds=5)\n",
    "gsearch1 = GridSearchCV(estimator = xgb.XGBClassifier( learning_rate =0.1, n_estimators=42, max_depth=5,\n",
    " min_child_weight=1, gamma=0.1, subsample=0.8, colsample_bytree=0.8,\n",
    " objective= 'binary:logistic', n_jobs=4, reg_alpha=0, scale_pos_weight=1, random_state=1), \n",
    " param_grid = param_test1, scoring='accuracy',n_jobs=-1,iid=False, cv=cv_folds)\n",
    "gsearch1.fit(data_x_reduced,data_y)\n",
    "print \"cv_results.............................\"\n",
    "print gsearch1.cv_results_\n",
    "print \"best_params.............................\"\n",
    "print gsearch1.best_params_\n",
    "print \"best_score_.............................\"\n",
    "print gsearch1.best_score_"
   ]
  },
  {
   "cell_type": "code",
   "execution_count": 38,
   "metadata": {},
   "outputs": [
    {
     "name": "stdout",
     "output_type": "stream",
     "text": [
      "[ 0.83240223  0.80446927  0.88202247  0.81460674  0.84180791]\n",
      "83.5061726294%(2.68782442394%)\n"
     ]
    }
   ],
   "source": [
    "kfold = ms.StratifiedKFold(n_splits=5, random_state=1)\n",
    "cv_results = ms.cross_val_score(model, data_x_reduced, data_y, cv=kfold)\n",
    "\n",
    "print cv_results\n",
    "print str(cv_results.mean()*100)+\"%(\"+str(cv_results.std()*100)+\"%)\"\n"
   ]
  },
  {
   "cell_type": "code",
   "execution_count": 3,
   "metadata": {
    "collapsed": true
   },
   "outputs": [],
   "source": [
    "#test_predictions = model.predict(total.iloc[len(train_all):])\n",
    "#submission = pd.DataFrame({ 'PassengerId': test['PassengerId'],\n",
    "#                            'Survived': test_predictions })\n",
    "#submission.to_csv(\"submission.csv\", index=False)"
   ]
  }
 ],
 "metadata": {
  "kernelspec": {
   "display_name": "cv",
   "language": "python",
   "name": "cv"
  },
  "language_info": {
   "codemirror_mode": {
    "name": "ipython",
    "version": 2
   },
   "file_extension": ".py",
   "mimetype": "text/x-python",
   "name": "python",
   "nbconvert_exporter": "python",
   "pygments_lexer": "ipython2",
   "version": "2.7.12"
  }
 },
 "nbformat": 4,
 "nbformat_minor": 2
}
